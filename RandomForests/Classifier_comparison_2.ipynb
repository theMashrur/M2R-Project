{
 "cells": [
  {
   "cell_type": "code",
   "execution_count": 113,
   "id": "4481a888",
   "metadata": {},
   "outputs": [],
   "source": [
    "from sklearn.ensemble import RandomForestClassifier\n",
    "from sklearn.neighbors import KNeighborsClassifier\n",
    "from sklearn.discriminant_analysis import LinearDiscriminantAnalysis\n",
    "from sklearn.datasets import load_iris\n",
    "from sklearn.model_selection import train_test_split\n",
    "from sklearn.metrics import accuracy_score, precision_score, recall_score\n",
    "from sklearn.preprocessing import StandardScaler\n",
    "import pandas as pd"
   ]
  },
  {
   "cell_type": "code",
   "execution_count": 114,
   "id": "1aeb6b83",
   "metadata": {},
   "outputs": [],
   "source": [
    "def classifier_comparison(X, y, multiclass=False, red_perf=False):\n",
    "    x_train, x_test, y_train, y_test = train_test_split(X, y)\n",
    "\n",
    "    knn = KNeighborsClassifier()\n",
    "    lda = LinearDiscriminantAnalysis()\n",
    "    \n",
    "    classifiers = [knn, lda]\n",
    "\n",
    "    results = []\n",
    "    for classifier in classifiers:\n",
    "        classifier.fit(x_train, y_train)\n",
    "        predictions = classifier.predict(x_test)\n",
    "        # Use weighted F1 score across multiclass inputs, otherwise default binary score\n",
    "        if multiclass:\n",
    "            results.append([accuracy_score(y_test, predictions), precision_score(y_test, predictions, average='weighted'), recall_score(y_test, predictions, average='weighted')])\n",
    "        else:\n",
    "            results.append([accuracy_score(y_test, predictions), precision_score(y_test, predictions), recall_score(y_test, predictions)])\n",
    "                           \n",
    "    return pd.DataFrame(results, [\"KNN\", \"LDA\"], [\"Accuracy\", \"Precision\", \"Recall\"])"
   ]
  },
  {
   "cell_type": "code",
   "execution_count": 115,
   "id": "f68ab39f",
   "metadata": {},
   "outputs": [],
   "source": [
    "iris = load_iris()\n",
    "X_iris, y_iris = iris.data, iris.target\n",
    "heart = pd.read_csv(\"../Datasets/heart_cleveland_upload.csv\")\n",
    "y_heart = heart[\"condition\"]\n",
    "X_heart = heart.drop(\"condition\", axis=1)\n",
    "stars = pd.read_csv(\"../Datasets/star_classification.csv\")\n",
    "y_stars = stars[\"class\"]\n",
    "X_stars = stars.drop(\"class\", axis=1)"
   ]
  },
  {
   "cell_type": "code",
   "execution_count": 130,
   "id": "1ce67539",
   "metadata": {
    "scrolled": false
   },
   "outputs": [
    {
     "name": "stdout",
     "output_type": "stream",
     "text": [
      "     Accuracy  Precision    Recall\n",
      "KNN  0.947368   0.955466  0.947368\n",
      "LDA  0.947368   0.947368  0.947368\n"
     ]
    }
   ],
   "source": [
    "print(classifier_comparison(X_iris, y_iris, True))"
   ]
  },
  {
   "cell_type": "code",
   "execution_count": 118,
   "id": "3b56844b",
   "metadata": {},
   "outputs": [
    {
     "name": "stdout",
     "output_type": "stream",
     "text": [
      "     Accuracy  Precision   Recall\n",
      "KNN   0.70860   0.699967  0.70860\n",
      "LDA   0.84996   0.853551  0.84996\n"
     ]
    }
   ],
   "source": [
    "print(classifier_comparison(X_stars, y_stars, True, True))"
   ]
  },
  {
   "cell_type": "code",
   "execution_count": 134,
   "id": "3c1e7e5a",
   "metadata": {},
   "outputs": [
    {
     "name": "stdout",
     "output_type": "stream",
     "text": [
      "     Accuracy  Precision    Recall\n",
      "KNN  0.746667   0.722222  0.742857\n",
      "LDA  0.853333   0.900000  0.771429\n"
     ]
    }
   ],
   "source": [
    "print(classifier_comparison(X_heart, y_heart))"
   ]
  },
  {
   "cell_type": "code",
   "execution_count": null,
   "id": "2cbb5468",
   "metadata": {},
   "outputs": [],
   "source": []
  }
 ],
 "metadata": {
  "kernelspec": {
   "display_name": "Python 3 (ipykernel)",
   "language": "python",
   "name": "python3"
  },
  "language_info": {
   "codemirror_mode": {
    "name": "ipython",
    "version": 3
   },
   "file_extension": ".py",
   "mimetype": "text/x-python",
   "name": "python",
   "nbconvert_exporter": "python",
   "pygments_lexer": "ipython3",
   "version": "3.9.12"
  }
 },
 "nbformat": 4,
 "nbformat_minor": 5
}
