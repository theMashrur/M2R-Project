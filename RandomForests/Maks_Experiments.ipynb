{
 "cells": [
  {
   "cell_type": "markdown",
   "id": "f8f668ef",
   "metadata": {},
   "source": [
    "# Experiments"
   ]
  },
  {
   "cell_type": "markdown",
   "id": "810ec8a8",
   "metadata": {},
   "source": [
    "Metrics: Accuracy, Precision and Recall\n",
    "\n",
    "Experiments: \n",
    "- Performance vs node purity method (Gini vs entropy)\n",
    "- Performance vs size of individual trees"
   ]
  },
  {
   "cell_type": "code",
   "execution_count": 1,
   "id": "a289094f",
   "metadata": {},
   "outputs": [],
   "source": [
    "from sklearn.ensemble import RandomForestClassifier\n",
    "import pandas as pd\n",
    "from sklearn.metrics import accuracy_score, f1_score, recall_score, precision_score\n",
    "from sklearn.model_selection import train_test_split\n",
    "import plotly.graph_objects as go\n",
    "import numpy as np\n",
    "import plotly.express as px\n",
    "from sklearn.datasets import load_iris"
   ]
  },
  {
   "cell_type": "code",
   "execution_count": 21,
   "id": "b17c5f0b",
   "metadata": {},
   "outputs": [
    {
     "name": "stdout",
     "output_type": "stream",
     "text": [
      "\u001b[33mDEPRECATION: Configuring installation scheme with distutils config files is deprecated and will no longer work in the near future. If you are using a Homebrew or Linuxbrew Python, please see discussion at https://github.com/Homebrew/homebrew-core/issues/76621\u001b[0m\u001b[33m\n",
      "\u001b[0mRequirement already satisfied: kaleido in /usr/local/lib/python3.9/site-packages (0.2.1)\n",
      "\u001b[33mDEPRECATION: Configuring installation scheme with distutils config files is deprecated and will no longer work in the near future. If you are using a Homebrew or Linuxbrew Python, please see discussion at https://github.com/Homebrew/homebrew-core/issues/76621\u001b[0m\u001b[33m\n",
      "\u001b[0m\u001b[33mWARNING: There was an error checking the latest version of pip.\u001b[0m\u001b[33m\n",
      "\u001b[0m"
     ]
    }
   ],
   "source": [
    "!pip3 install -U kaleido"
   ]
  },
  {
   "cell_type": "code",
   "execution_count": 2,
   "id": "dc968a25",
   "metadata": {},
   "outputs": [
    {
     "data": {
      "text/plain": [
       "'0.2.1'"
      ]
     },
     "execution_count": 2,
     "metadata": {},
     "output_type": "execute_result"
    }
   ],
   "source": [
    "import kaleido\n",
    "kaleido.__version__"
   ]
  },
  {
   "cell_type": "code",
   "execution_count": 3,
   "id": "94ecfd47",
   "metadata": {},
   "outputs": [
    {
     "data": {
      "text/plain": [
       "'5.5.0'"
      ]
     },
     "execution_count": 3,
     "metadata": {},
     "output_type": "execute_result"
    }
   ],
   "source": [
    "import plotly\n",
    "plotly.__version__"
   ]
  },
  {
   "cell_type": "markdown",
   "id": "911f34d0",
   "metadata": {},
   "source": [
    "## Load data"
   ]
  },
  {
   "cell_type": "code",
   "execution_count": 4,
   "id": "8cad8aeb",
   "metadata": {},
   "outputs": [],
   "source": [
    "iris = load_iris()\n",
    "stars = pd.read_csv(\"../Datasets/star_classification.csv\")\n",
    "heart = pd.read_csv(\"../Datasets/heart_cleveland_upload.csv\")"
   ]
  },
  {
   "cell_type": "markdown",
   "id": "3d820220",
   "metadata": {},
   "source": [
    "### iris"
   ]
  },
  {
   "cell_type": "code",
   "execution_count": 5,
   "id": "4c9c7d17",
   "metadata": {
    "scrolled": true
   },
   "outputs": [
    {
     "data": {
      "text/plain": [
       "['sepal length (cm)',\n",
       " 'sepal width (cm)',\n",
       " 'petal length (cm)',\n",
       " 'petal width (cm)']"
      ]
     },
     "execution_count": 5,
     "metadata": {},
     "output_type": "execute_result"
    }
   ],
   "source": [
    "iris.feature_names"
   ]
  },
  {
   "cell_type": "code",
   "execution_count": 6,
   "id": "04122bbd",
   "metadata": {},
   "outputs": [
    {
     "data": {
      "text/plain": [
       "array(['setosa', 'versicolor', 'virginica'], dtype='<U10')"
      ]
     },
     "execution_count": 6,
     "metadata": {},
     "output_type": "execute_result"
    }
   ],
   "source": [
    "iris.target_names"
   ]
  },
  {
   "cell_type": "code",
   "execution_count": 7,
   "id": "5716f456",
   "metadata": {},
   "outputs": [
    {
     "data": {
      "text/plain": [
       "150"
      ]
     },
     "execution_count": 7,
     "metadata": {},
     "output_type": "execute_result"
    }
   ],
   "source": [
    "len(iris.data)"
   ]
  },
  {
   "cell_type": "markdown",
   "id": "81d9ab8e",
   "metadata": {},
   "source": [
    "### stars"
   ]
  },
  {
   "cell_type": "code",
   "execution_count": 8,
   "id": "ead93dee",
   "metadata": {
    "scrolled": true
   },
   "outputs": [
    {
     "data": {
      "text/plain": [
       "['obj_ID',\n",
       " 'alpha',\n",
       " 'delta',\n",
       " 'u',\n",
       " 'g',\n",
       " 'r',\n",
       " 'i',\n",
       " 'z',\n",
       " 'run_ID',\n",
       " 'rerun_ID',\n",
       " 'cam_col',\n",
       " 'field_ID',\n",
       " 'spec_obj_ID',\n",
       " 'redshift',\n",
       " 'plate',\n",
       " 'MJD',\n",
       " 'fiber_ID']"
      ]
     },
     "execution_count": 8,
     "metadata": {},
     "output_type": "execute_result"
    }
   ],
   "source": [
    "s_t = list(stars.columns)\n",
    "s_t.remove('class')\n",
    "s_t"
   ]
  },
  {
   "cell_type": "code",
   "execution_count": 9,
   "id": "e19b5934",
   "metadata": {},
   "outputs": [
    {
     "data": {
      "text/plain": [
       "array(['GALAXY', 'QSO', 'STAR'], dtype=object)"
      ]
     },
     "execution_count": 9,
     "metadata": {},
     "output_type": "execute_result"
    }
   ],
   "source": [
    "stars['class'].unique()"
   ]
  },
  {
   "cell_type": "code",
   "execution_count": 10,
   "id": "01612f76",
   "metadata": {},
   "outputs": [
    {
     "data": {
      "text/plain": [
       "100000"
      ]
     },
     "execution_count": 10,
     "metadata": {},
     "output_type": "execute_result"
    }
   ],
   "source": [
    "len(stars)"
   ]
  },
  {
   "cell_type": "markdown",
   "id": "f169e651",
   "metadata": {},
   "source": [
    "### heart"
   ]
  },
  {
   "cell_type": "code",
   "execution_count": 11,
   "id": "b4c9b00b",
   "metadata": {
    "scrolled": true
   },
   "outputs": [
    {
     "data": {
      "text/plain": [
       "['age',\n",
       " 'sex',\n",
       " 'cp',\n",
       " 'trestbps',\n",
       " 'chol',\n",
       " 'fbs',\n",
       " 'restecg',\n",
       " 'thalach',\n",
       " 'exang',\n",
       " 'oldpeak',\n",
       " 'slope',\n",
       " 'ca',\n",
       " 'thal',\n",
       " 'condition']"
      ]
     },
     "execution_count": 11,
     "metadata": {},
     "output_type": "execute_result"
    }
   ],
   "source": [
    "list(heart.columns)"
   ]
  },
  {
   "cell_type": "code",
   "execution_count": 12,
   "id": "107d7bea",
   "metadata": {},
   "outputs": [
    {
     "data": {
      "text/plain": [
       "array([0, 1])"
      ]
     },
     "execution_count": 12,
     "metadata": {},
     "output_type": "execute_result"
    }
   ],
   "source": [
    "heart['condition'].unique()"
   ]
  },
  {
   "cell_type": "code",
   "execution_count": 13,
   "id": "0b052f44",
   "metadata": {},
   "outputs": [
    {
     "data": {
      "text/plain": [
       "297"
      ]
     },
     "execution_count": 13,
     "metadata": {},
     "output_type": "execute_result"
    }
   ],
   "source": [
    "len(heart)"
   ]
  },
  {
   "cell_type": "markdown",
   "id": "8f9ec137",
   "metadata": {},
   "source": [
    "## Performance vs node purity method"
   ]
  },
  {
   "cell_type": "markdown",
   "id": "5a685921",
   "metadata": {},
   "source": [
    "### iris\n"
   ]
  },
  {
   "cell_type": "code",
   "execution_count": 14,
   "id": "e7b997ae",
   "metadata": {},
   "outputs": [
    {
     "name": "stdout",
     "output_type": "stream",
     "text": [
      "Metrics for gini:\n",
      "Accuracy 0.9111111111111111\n",
      "F1 Score 0.9138888888888889\n",
      "Recall 0.9259259259259259\n",
      "Precision 0.9215686274509803\n",
      "\n",
      "Metrics for entropy:\n",
      "Accuracy 0.9333333333333333\n",
      "F1 Score 0.9352142110762801\n",
      "Recall 0.9444444444444445\n",
      "Precision 0.9375\n",
      "\n"
     ]
    }
   ],
   "source": [
    "iris_X, iris_y  = iris.data, iris.target\n",
    "\n",
    "iris_x_train, iris_x_test, iris_y_train, iris_y_test = train_test_split(iris_X, iris_y, test_size=0.3)\n",
    "\n",
    "for crit in ['gini', 'entropy']:\n",
    "    print(f\"Metrics for {crit}:\")\n",
    "    classifier = RandomForestClassifier(criterion=crit)\n",
    "\n",
    "    classifier.fit(iris_x_train, iris_y_train)\n",
    "    predictions = classifier.predict(iris_x_test)\n",
    "\n",
    "    print(f\"Accuracy {accuracy_score(iris_y_test, predictions)}\")\n",
    "    print(f\"F1 Score {f1_score(iris_y_test, predictions, average='macro')}\")\n",
    "    print(f\"Recall {recall_score(iris_y_test, predictions, average='macro')}\")\n",
    "    print(f\"Precision {precision_score(iris_y_test, predictions, average='macro')}\\n\")"
   ]
  },
  {
   "cell_type": "markdown",
   "id": "015365e3",
   "metadata": {},
   "source": [
    "### stars"
   ]
  },
  {
   "cell_type": "code",
   "execution_count": 15,
   "id": "e052643e",
   "metadata": {},
   "outputs": [
    {
     "name": "stdout",
     "output_type": "stream",
     "text": [
      "Metrics for gini:\n",
      "Accuracy 0.9778333333333333\n",
      "F1 Score 0.9742102135963592\n",
      "Recall 0.9718412282742128\n",
      "Precision 0.9768046711492845\n",
      "\n",
      "Metrics for entropy:\n",
      "Accuracy 0.9774\n",
      "F1 Score 0.9737405581374459\n",
      "Recall 0.9714698820273037\n",
      "Precision 0.9762567450436745\n",
      "\n"
     ]
    }
   ],
   "source": [
    "stars_y = stars[\"class\"]\n",
    "stars_X = stars.drop(\"class\", axis=1)\n",
    "\n",
    "stars_x_train, stars_x_test, stars_y_train, stars_y_test = train_test_split(stars_X, stars_y, test_size=0.3)\n",
    "\n",
    "for crit in ['gini', 'entropy']:\n",
    "    print(f\"Metrics for {crit}:\")\n",
    "    classifier = RandomForestClassifier(criterion=crit)\n",
    "\n",
    "    classifier.fit(stars_x_train, stars_y_train)\n",
    "    predictions = classifier.predict(stars_x_test)\n",
    "\n",
    "    print(f\"Accuracy {accuracy_score(stars_y_test, predictions)}\")\n",
    "    print(f\"F1 Score {f1_score(stars_y_test, predictions, average='macro')}\")\n",
    "    print(f\"Recall {recall_score(stars_y_test, predictions, average='macro')}\")\n",
    "    print(f\"Precision {precision_score(stars_y_test, predictions, average='macro')}\\n\")"
   ]
  },
  {
   "cell_type": "markdown",
   "id": "ffebcbfe",
   "metadata": {},
   "source": [
    "### heart"
   ]
  },
  {
   "cell_type": "code",
   "execution_count": 16,
   "id": "f6cfd30a",
   "metadata": {
    "scrolled": true
   },
   "outputs": [
    {
     "name": "stdout",
     "output_type": "stream",
     "text": [
      "Metrics for gini:\n",
      "Accuracy 0.8\n",
      "F1 Score 0.7996041563582384\n",
      "Recall 0.7996041563582384\n",
      "Precision 0.7996041563582384\n",
      "\n",
      "Metrics for entropy:\n",
      "Accuracy 0.8111111111111111\n",
      "F1 Score 0.8105263157894738\n",
      "Recall 0.8102424542305788\n",
      "Precision 0.8110119047619048\n",
      "\n"
     ]
    }
   ],
   "source": [
    "heart_y = heart[\"condition\"]\n",
    "heart_X = heart.drop(\"condition\", axis=1)\n",
    "\n",
    "heart_x_train, heart_x_test, heart_y_train, heart_y_test = train_test_split(heart_X, heart_y, test_size=0.3)\n",
    "for crit in ['gini', 'entropy']:\n",
    "    print(f\"Metrics for {crit}:\")\n",
    "    classifier = RandomForestClassifier(criterion=crit)\n",
    "\n",
    "    classifier.fit(heart_x_train, heart_y_train)\n",
    "    predictions = classifier.predict(heart_x_test)\n",
    "\n",
    "    print(f\"Accuracy {accuracy_score(heart_y_test, predictions)}\")\n",
    "    print(f\"F1 Score {f1_score(heart_y_test, predictions, average='macro')}\")\n",
    "    print(f\"Recall {recall_score(heart_y_test, predictions, average='macro')}\")\n",
    "    print(f\"Precision {precision_score(heart_y_test, predictions, average='macro')}\\n\")"
   ]
  },
  {
   "cell_type": "markdown",
   "id": "d824f340",
   "metadata": {},
   "source": [
    "## Performance vs size of individual trees"
   ]
  },
  {
   "cell_type": "code",
   "execution_count": 17,
   "id": "f4fb35ee",
   "metadata": {},
   "outputs": [],
   "source": [
    "depths = list(range(1,26))"
   ]
  },
  {
   "cell_type": "markdown",
   "id": "414cc52f",
   "metadata": {},
   "source": [
    "### iris"
   ]
  },
  {
   "cell_type": "code",
   "execution_count": 18,
   "id": "ef7ca246",
   "metadata": {},
   "outputs": [
    {
     "name": "stdout",
     "output_type": "stream",
     "text": [
      "Metrics for depth: 1:\n",
      "Accuracy 0.8888888888888888\n",
      "F1 Score 0.8924731182795699\n",
      "Recall 0.9074074074074074\n",
      "Precision 0.9074074074074074\n",
      "\n",
      "Metrics for depth: 2:\n",
      "Accuracy 0.9111111111111111\n",
      "F1 Score 0.9138888888888889\n",
      "Recall 0.9259259259259259\n",
      "Precision 0.9215686274509803\n",
      "\n",
      "Metrics for depth: 3:\n",
      "Accuracy 0.9111111111111111\n",
      "F1 Score 0.9138888888888889\n",
      "Recall 0.9259259259259259\n",
      "Precision 0.9215686274509803\n",
      "\n",
      "Metrics for depth: 4:\n",
      "Accuracy 0.9111111111111111\n",
      "F1 Score 0.9138888888888889\n",
      "Recall 0.9259259259259259\n",
      "Precision 0.9215686274509803\n",
      "\n",
      "Metrics for depth: 5:\n",
      "Accuracy 0.9111111111111111\n",
      "F1 Score 0.9138888888888889\n",
      "Recall 0.9259259259259259\n",
      "Precision 0.9215686274509803\n",
      "\n",
      "Metrics for depth: 6:\n",
      "Accuracy 0.9111111111111111\n",
      "F1 Score 0.9138888888888889\n",
      "Recall 0.9259259259259259\n",
      "Precision 0.9215686274509803\n",
      "\n",
      "Metrics for depth: 7:\n",
      "Accuracy 0.9111111111111111\n",
      "F1 Score 0.9138888888888889\n",
      "Recall 0.9259259259259259\n",
      "Precision 0.9215686274509803\n",
      "\n",
      "Metrics for depth: 8:\n",
      "Accuracy 0.9111111111111111\n",
      "F1 Score 0.9138888888888889\n",
      "Recall 0.9259259259259259\n",
      "Precision 0.9215686274509803\n",
      "\n",
      "Metrics for depth: 9:\n",
      "Accuracy 0.9111111111111111\n",
      "F1 Score 0.9138888888888889\n",
      "Recall 0.9259259259259259\n",
      "Precision 0.9215686274509803\n",
      "\n",
      "Metrics for depth: 10:\n",
      "Accuracy 0.9333333333333333\n",
      "F1 Score 0.9352142110762801\n",
      "Recall 0.9444444444444445\n",
      "Precision 0.9375\n",
      "\n",
      "Metrics for depth: 11:\n",
      "Accuracy 0.9111111111111111\n",
      "F1 Score 0.9138888888888889\n",
      "Recall 0.9259259259259259\n",
      "Precision 0.9215686274509803\n",
      "\n",
      "Metrics for depth: 12:\n",
      "Accuracy 0.9111111111111111\n",
      "F1 Score 0.9138888888888889\n",
      "Recall 0.9259259259259259\n",
      "Precision 0.9215686274509803\n",
      "\n",
      "Metrics for depth: 13:\n",
      "Accuracy 0.9111111111111111\n",
      "F1 Score 0.9138888888888889\n",
      "Recall 0.9259259259259259\n",
      "Precision 0.9215686274509803\n",
      "\n",
      "Metrics for depth: 14:\n",
      "Accuracy 0.9111111111111111\n",
      "F1 Score 0.9138888888888889\n",
      "Recall 0.9259259259259259\n",
      "Precision 0.9215686274509803\n",
      "\n",
      "Metrics for depth: 15:\n",
      "Accuracy 0.9111111111111111\n",
      "F1 Score 0.9138888888888889\n",
      "Recall 0.9259259259259259\n",
      "Precision 0.9215686274509803\n",
      "\n",
      "Metrics for depth: 16:\n",
      "Accuracy 0.9333333333333333\n",
      "F1 Score 0.9352142110762801\n",
      "Recall 0.9444444444444445\n",
      "Precision 0.9375\n",
      "\n",
      "Metrics for depth: 17:\n",
      "Accuracy 0.9111111111111111\n",
      "F1 Score 0.9138888888888889\n",
      "Recall 0.9259259259259259\n",
      "Precision 0.9215686274509803\n",
      "\n",
      "Metrics for depth: 18:\n",
      "Accuracy 0.9111111111111111\n",
      "F1 Score 0.9138888888888889\n",
      "Recall 0.9259259259259259\n",
      "Precision 0.9215686274509803\n",
      "\n",
      "Metrics for depth: 19:\n",
      "Accuracy 0.9333333333333333\n",
      "F1 Score 0.9352142110762801\n",
      "Recall 0.9444444444444445\n",
      "Precision 0.9375\n",
      "\n",
      "Metrics for depth: 20:\n",
      "Accuracy 0.9111111111111111\n",
      "F1 Score 0.9138888888888889\n",
      "Recall 0.9259259259259259\n",
      "Precision 0.9215686274509803\n",
      "\n",
      "Metrics for depth: 21:\n",
      "Accuracy 0.9111111111111111\n",
      "F1 Score 0.9138888888888889\n",
      "Recall 0.9259259259259259\n",
      "Precision 0.9215686274509803\n",
      "\n",
      "Metrics for depth: 22:\n",
      "Accuracy 0.9111111111111111\n",
      "F1 Score 0.9138888888888889\n",
      "Recall 0.9259259259259259\n",
      "Precision 0.9215686274509803\n",
      "\n",
      "Metrics for depth: 23:\n",
      "Accuracy 0.9111111111111111\n",
      "F1 Score 0.9138888888888889\n",
      "Recall 0.9259259259259259\n",
      "Precision 0.9215686274509803\n",
      "\n",
      "Metrics for depth: 24:\n",
      "Accuracy 0.9333333333333333\n",
      "F1 Score 0.9352142110762801\n",
      "Recall 0.9444444444444445\n",
      "Precision 0.9375\n",
      "\n",
      "Metrics for depth: 25:\n",
      "Accuracy 0.9111111111111111\n",
      "F1 Score 0.9138888888888889\n",
      "Recall 0.9259259259259259\n",
      "Precision 0.9215686274509803\n",
      "\n"
     ]
    }
   ],
   "source": [
    "iris_mets = []\n",
    "for depth in depths:\n",
    "    print(f\"Metrics for depth: {depth}:\")\n",
    "    classifier = RandomForestClassifier(max_depth=depth)\n",
    "\n",
    "    classifier.fit(iris_x_train, iris_y_train)\n",
    "    predictions = classifier.predict(iris_x_test)\n",
    "    \n",
    "    acc = accuracy_score(iris_y_test, predictions)\n",
    "    f1 = f1_score(iris_y_test, predictions, average='macro')\n",
    "    recall = recall_score(iris_y_test, predictions, average='macro')\n",
    "    prec = precision_score(iris_y_test, predictions, average='macro')\n",
    "\n",
    "    print(f\"Accuracy {acc}\")\n",
    "    print(f\"F1 Score {f1}\")\n",
    "    print(f\"Recall {recall}\")\n",
    "    print(f\"Precision {prec}\\n\")\n",
    "    \n",
    "    iris_mets.append((acc, f1, recall, prec))"
   ]
  },
  {
   "cell_type": "code",
   "execution_count": 27,
   "id": "bd745634",
   "metadata": {},
   "outputs": [
    {
     "data": {
      "application/vnd.plotly.v1+json": {
       "config": {
        "plotlyServerURL": "https://plot.ly"
       },
       "data": [
        {
         "name": "accuracy",
         "type": "scatter",
         "x": [
          1,
          2,
          3,
          4,
          5,
          6,
          7,
          8,
          9,
          10,
          11,
          12,
          13,
          14,
          15,
          16,
          17,
          18,
          19,
          20,
          21,
          22,
          23,
          24,
          25
         ],
         "y": [
          0.8888888888888888,
          0.9111111111111111,
          0.9111111111111111,
          0.9111111111111111,
          0.9111111111111111,
          0.9111111111111111,
          0.9111111111111111,
          0.9111111111111111,
          0.9111111111111111,
          0.9333333333333333,
          0.9111111111111111,
          0.9111111111111111,
          0.9111111111111111,
          0.9111111111111111,
          0.9111111111111111,
          0.9333333333333333,
          0.9111111111111111,
          0.9111111111111111,
          0.9333333333333333,
          0.9111111111111111,
          0.9111111111111111,
          0.9111111111111111,
          0.9111111111111111,
          0.9333333333333333,
          0.9111111111111111
         ]
        },
        {
         "name": "F1",
         "type": "scatter",
         "x": [
          1,
          2,
          3,
          4,
          5,
          6,
          7,
          8,
          9,
          10,
          11,
          12,
          13,
          14,
          15,
          16,
          17,
          18,
          19,
          20,
          21,
          22,
          23,
          24,
          25
         ],
         "y": [
          0.8924731182795699,
          0.9138888888888889,
          0.9138888888888889,
          0.9138888888888889,
          0.9138888888888889,
          0.9138888888888889,
          0.9138888888888889,
          0.9138888888888889,
          0.9138888888888889,
          0.9352142110762801,
          0.9138888888888889,
          0.9138888888888889,
          0.9138888888888889,
          0.9138888888888889,
          0.9138888888888889,
          0.9352142110762801,
          0.9138888888888889,
          0.9138888888888889,
          0.9352142110762801,
          0.9138888888888889,
          0.9138888888888889,
          0.9138888888888889,
          0.9138888888888889,
          0.9352142110762801,
          0.9138888888888889
         ]
        },
        {
         "name": "Recall",
         "type": "scatter",
         "x": [
          1,
          2,
          3,
          4,
          5,
          6,
          7,
          8,
          9,
          10,
          11,
          12,
          13,
          14,
          15,
          16,
          17,
          18,
          19,
          20,
          21,
          22,
          23,
          24,
          25
         ],
         "y": [
          0.9074074074074074,
          0.9215686274509803,
          0.9215686274509803,
          0.9215686274509803,
          0.9215686274509803,
          0.9215686274509803,
          0.9215686274509803,
          0.9215686274509803,
          0.9215686274509803,
          0.9375,
          0.9215686274509803,
          0.9215686274509803,
          0.9215686274509803,
          0.9215686274509803,
          0.9215686274509803,
          0.9375,
          0.9215686274509803,
          0.9215686274509803,
          0.9375,
          0.9215686274509803,
          0.9215686274509803,
          0.9215686274509803,
          0.9215686274509803,
          0.9375,
          0.9215686274509803
         ]
        },
        {
         "name": "Precision",
         "type": "scatter",
         "x": [
          1,
          2,
          3,
          4,
          5,
          6,
          7,
          8,
          9,
          10,
          11,
          12,
          13,
          14,
          15,
          16,
          17,
          18,
          19,
          20,
          21,
          22,
          23,
          24,
          25
         ],
         "y": [
          0.9074074074074074,
          0.9259259259259259,
          0.9259259259259259,
          0.9259259259259259,
          0.9259259259259259,
          0.9259259259259259,
          0.9259259259259259,
          0.9259259259259259,
          0.9259259259259259,
          0.9444444444444445,
          0.9259259259259259,
          0.9259259259259259,
          0.9259259259259259,
          0.9259259259259259,
          0.9259259259259259,
          0.9444444444444445,
          0.9259259259259259,
          0.9259259259259259,
          0.9444444444444445,
          0.9259259259259259,
          0.9259259259259259,
          0.9259259259259259,
          0.9259259259259259,
          0.9444444444444445,
          0.9259259259259259
         ]
        }
       ],
       "layout": {
        "template": {
         "data": {
          "bar": [
           {
            "error_x": {
             "color": "#2a3f5f"
            },
            "error_y": {
             "color": "#2a3f5f"
            },
            "marker": {
             "line": {
              "color": "#E5ECF6",
              "width": 0.5
             },
             "pattern": {
              "fillmode": "overlay",
              "size": 10,
              "solidity": 0.2
             }
            },
            "type": "bar"
           }
          ],
          "barpolar": [
           {
            "marker": {
             "line": {
              "color": "#E5ECF6",
              "width": 0.5
             },
             "pattern": {
              "fillmode": "overlay",
              "size": 10,
              "solidity": 0.2
             }
            },
            "type": "barpolar"
           }
          ],
          "carpet": [
           {
            "aaxis": {
             "endlinecolor": "#2a3f5f",
             "gridcolor": "white",
             "linecolor": "white",
             "minorgridcolor": "white",
             "startlinecolor": "#2a3f5f"
            },
            "baxis": {
             "endlinecolor": "#2a3f5f",
             "gridcolor": "white",
             "linecolor": "white",
             "minorgridcolor": "white",
             "startlinecolor": "#2a3f5f"
            },
            "type": "carpet"
           }
          ],
          "choropleth": [
           {
            "colorbar": {
             "outlinewidth": 0,
             "ticks": ""
            },
            "type": "choropleth"
           }
          ],
          "contour": [
           {
            "colorbar": {
             "outlinewidth": 0,
             "ticks": ""
            },
            "colorscale": [
             [
              0,
              "#0d0887"
             ],
             [
              0.1111111111111111,
              "#46039f"
             ],
             [
              0.2222222222222222,
              "#7201a8"
             ],
             [
              0.3333333333333333,
              "#9c179e"
             ],
             [
              0.4444444444444444,
              "#bd3786"
             ],
             [
              0.5555555555555556,
              "#d8576b"
             ],
             [
              0.6666666666666666,
              "#ed7953"
             ],
             [
              0.7777777777777778,
              "#fb9f3a"
             ],
             [
              0.8888888888888888,
              "#fdca26"
             ],
             [
              1,
              "#f0f921"
             ]
            ],
            "type": "contour"
           }
          ],
          "contourcarpet": [
           {
            "colorbar": {
             "outlinewidth": 0,
             "ticks": ""
            },
            "type": "contourcarpet"
           }
          ],
          "heatmap": [
           {
            "colorbar": {
             "outlinewidth": 0,
             "ticks": ""
            },
            "colorscale": [
             [
              0,
              "#0d0887"
             ],
             [
              0.1111111111111111,
              "#46039f"
             ],
             [
              0.2222222222222222,
              "#7201a8"
             ],
             [
              0.3333333333333333,
              "#9c179e"
             ],
             [
              0.4444444444444444,
              "#bd3786"
             ],
             [
              0.5555555555555556,
              "#d8576b"
             ],
             [
              0.6666666666666666,
              "#ed7953"
             ],
             [
              0.7777777777777778,
              "#fb9f3a"
             ],
             [
              0.8888888888888888,
              "#fdca26"
             ],
             [
              1,
              "#f0f921"
             ]
            ],
            "type": "heatmap"
           }
          ],
          "heatmapgl": [
           {
            "colorbar": {
             "outlinewidth": 0,
             "ticks": ""
            },
            "colorscale": [
             [
              0,
              "#0d0887"
             ],
             [
              0.1111111111111111,
              "#46039f"
             ],
             [
              0.2222222222222222,
              "#7201a8"
             ],
             [
              0.3333333333333333,
              "#9c179e"
             ],
             [
              0.4444444444444444,
              "#bd3786"
             ],
             [
              0.5555555555555556,
              "#d8576b"
             ],
             [
              0.6666666666666666,
              "#ed7953"
             ],
             [
              0.7777777777777778,
              "#fb9f3a"
             ],
             [
              0.8888888888888888,
              "#fdca26"
             ],
             [
              1,
              "#f0f921"
             ]
            ],
            "type": "heatmapgl"
           }
          ],
          "histogram": [
           {
            "marker": {
             "pattern": {
              "fillmode": "overlay",
              "size": 10,
              "solidity": 0.2
             }
            },
            "type": "histogram"
           }
          ],
          "histogram2d": [
           {
            "colorbar": {
             "outlinewidth": 0,
             "ticks": ""
            },
            "colorscale": [
             [
              0,
              "#0d0887"
             ],
             [
              0.1111111111111111,
              "#46039f"
             ],
             [
              0.2222222222222222,
              "#7201a8"
             ],
             [
              0.3333333333333333,
              "#9c179e"
             ],
             [
              0.4444444444444444,
              "#bd3786"
             ],
             [
              0.5555555555555556,
              "#d8576b"
             ],
             [
              0.6666666666666666,
              "#ed7953"
             ],
             [
              0.7777777777777778,
              "#fb9f3a"
             ],
             [
              0.8888888888888888,
              "#fdca26"
             ],
             [
              1,
              "#f0f921"
             ]
            ],
            "type": "histogram2d"
           }
          ],
          "histogram2dcontour": [
           {
            "colorbar": {
             "outlinewidth": 0,
             "ticks": ""
            },
            "colorscale": [
             [
              0,
              "#0d0887"
             ],
             [
              0.1111111111111111,
              "#46039f"
             ],
             [
              0.2222222222222222,
              "#7201a8"
             ],
             [
              0.3333333333333333,
              "#9c179e"
             ],
             [
              0.4444444444444444,
              "#bd3786"
             ],
             [
              0.5555555555555556,
              "#d8576b"
             ],
             [
              0.6666666666666666,
              "#ed7953"
             ],
             [
              0.7777777777777778,
              "#fb9f3a"
             ],
             [
              0.8888888888888888,
              "#fdca26"
             ],
             [
              1,
              "#f0f921"
             ]
            ],
            "type": "histogram2dcontour"
           }
          ],
          "mesh3d": [
           {
            "colorbar": {
             "outlinewidth": 0,
             "ticks": ""
            },
            "type": "mesh3d"
           }
          ],
          "parcoords": [
           {
            "line": {
             "colorbar": {
              "outlinewidth": 0,
              "ticks": ""
             }
            },
            "type": "parcoords"
           }
          ],
          "pie": [
           {
            "automargin": true,
            "type": "pie"
           }
          ],
          "scatter": [
           {
            "marker": {
             "colorbar": {
              "outlinewidth": 0,
              "ticks": ""
             }
            },
            "type": "scatter"
           }
          ],
          "scatter3d": [
           {
            "line": {
             "colorbar": {
              "outlinewidth": 0,
              "ticks": ""
             }
            },
            "marker": {
             "colorbar": {
              "outlinewidth": 0,
              "ticks": ""
             }
            },
            "type": "scatter3d"
           }
          ],
          "scattercarpet": [
           {
            "marker": {
             "colorbar": {
              "outlinewidth": 0,
              "ticks": ""
             }
            },
            "type": "scattercarpet"
           }
          ],
          "scattergeo": [
           {
            "marker": {
             "colorbar": {
              "outlinewidth": 0,
              "ticks": ""
             }
            },
            "type": "scattergeo"
           }
          ],
          "scattergl": [
           {
            "marker": {
             "colorbar": {
              "outlinewidth": 0,
              "ticks": ""
             }
            },
            "type": "scattergl"
           }
          ],
          "scattermapbox": [
           {
            "marker": {
             "colorbar": {
              "outlinewidth": 0,
              "ticks": ""
             }
            },
            "type": "scattermapbox"
           }
          ],
          "scatterpolar": [
           {
            "marker": {
             "colorbar": {
              "outlinewidth": 0,
              "ticks": ""
             }
            },
            "type": "scatterpolar"
           }
          ],
          "scatterpolargl": [
           {
            "marker": {
             "colorbar": {
              "outlinewidth": 0,
              "ticks": ""
             }
            },
            "type": "scatterpolargl"
           }
          ],
          "scatterternary": [
           {
            "marker": {
             "colorbar": {
              "outlinewidth": 0,
              "ticks": ""
             }
            },
            "type": "scatterternary"
           }
          ],
          "surface": [
           {
            "colorbar": {
             "outlinewidth": 0,
             "ticks": ""
            },
            "colorscale": [
             [
              0,
              "#0d0887"
             ],
             [
              0.1111111111111111,
              "#46039f"
             ],
             [
              0.2222222222222222,
              "#7201a8"
             ],
             [
              0.3333333333333333,
              "#9c179e"
             ],
             [
              0.4444444444444444,
              "#bd3786"
             ],
             [
              0.5555555555555556,
              "#d8576b"
             ],
             [
              0.6666666666666666,
              "#ed7953"
             ],
             [
              0.7777777777777778,
              "#fb9f3a"
             ],
             [
              0.8888888888888888,
              "#fdca26"
             ],
             [
              1,
              "#f0f921"
             ]
            ],
            "type": "surface"
           }
          ],
          "table": [
           {
            "cells": {
             "fill": {
              "color": "#EBF0F8"
             },
             "line": {
              "color": "white"
             }
            },
            "header": {
             "fill": {
              "color": "#C8D4E3"
             },
             "line": {
              "color": "white"
             }
            },
            "type": "table"
           }
          ]
         },
         "layout": {
          "annotationdefaults": {
           "arrowcolor": "#2a3f5f",
           "arrowhead": 0,
           "arrowwidth": 1
          },
          "autotypenumbers": "strict",
          "coloraxis": {
           "colorbar": {
            "outlinewidth": 0,
            "ticks": ""
           }
          },
          "colorscale": {
           "diverging": [
            [
             0,
             "#8e0152"
            ],
            [
             0.1,
             "#c51b7d"
            ],
            [
             0.2,
             "#de77ae"
            ],
            [
             0.3,
             "#f1b6da"
            ],
            [
             0.4,
             "#fde0ef"
            ],
            [
             0.5,
             "#f7f7f7"
            ],
            [
             0.6,
             "#e6f5d0"
            ],
            [
             0.7,
             "#b8e186"
            ],
            [
             0.8,
             "#7fbc41"
            ],
            [
             0.9,
             "#4d9221"
            ],
            [
             1,
             "#276419"
            ]
           ],
           "sequential": [
            [
             0,
             "#0d0887"
            ],
            [
             0.1111111111111111,
             "#46039f"
            ],
            [
             0.2222222222222222,
             "#7201a8"
            ],
            [
             0.3333333333333333,
             "#9c179e"
            ],
            [
             0.4444444444444444,
             "#bd3786"
            ],
            [
             0.5555555555555556,
             "#d8576b"
            ],
            [
             0.6666666666666666,
             "#ed7953"
            ],
            [
             0.7777777777777778,
             "#fb9f3a"
            ],
            [
             0.8888888888888888,
             "#fdca26"
            ],
            [
             1,
             "#f0f921"
            ]
           ],
           "sequentialminus": [
            [
             0,
             "#0d0887"
            ],
            [
             0.1111111111111111,
             "#46039f"
            ],
            [
             0.2222222222222222,
             "#7201a8"
            ],
            [
             0.3333333333333333,
             "#9c179e"
            ],
            [
             0.4444444444444444,
             "#bd3786"
            ],
            [
             0.5555555555555556,
             "#d8576b"
            ],
            [
             0.6666666666666666,
             "#ed7953"
            ],
            [
             0.7777777777777778,
             "#fb9f3a"
            ],
            [
             0.8888888888888888,
             "#fdca26"
            ],
            [
             1,
             "#f0f921"
            ]
           ]
          },
          "colorway": [
           "#636efa",
           "#EF553B",
           "#00cc96",
           "#ab63fa",
           "#FFA15A",
           "#19d3f3",
           "#FF6692",
           "#B6E880",
           "#FF97FF",
           "#FECB52"
          ],
          "font": {
           "color": "#2a3f5f"
          },
          "geo": {
           "bgcolor": "white",
           "lakecolor": "white",
           "landcolor": "#E5ECF6",
           "showlakes": true,
           "showland": true,
           "subunitcolor": "white"
          },
          "hoverlabel": {
           "align": "left"
          },
          "hovermode": "closest",
          "mapbox": {
           "style": "light"
          },
          "paper_bgcolor": "white",
          "plot_bgcolor": "#E5ECF6",
          "polar": {
           "angularaxis": {
            "gridcolor": "white",
            "linecolor": "white",
            "ticks": ""
           },
           "bgcolor": "#E5ECF6",
           "radialaxis": {
            "gridcolor": "white",
            "linecolor": "white",
            "ticks": ""
           }
          },
          "scene": {
           "xaxis": {
            "backgroundcolor": "#E5ECF6",
            "gridcolor": "white",
            "gridwidth": 2,
            "linecolor": "white",
            "showbackground": true,
            "ticks": "",
            "zerolinecolor": "white"
           },
           "yaxis": {
            "backgroundcolor": "#E5ECF6",
            "gridcolor": "white",
            "gridwidth": 2,
            "linecolor": "white",
            "showbackground": true,
            "ticks": "",
            "zerolinecolor": "white"
           },
           "zaxis": {
            "backgroundcolor": "#E5ECF6",
            "gridcolor": "white",
            "gridwidth": 2,
            "linecolor": "white",
            "showbackground": true,
            "ticks": "",
            "zerolinecolor": "white"
           }
          },
          "shapedefaults": {
           "line": {
            "color": "#2a3f5f"
           }
          },
          "ternary": {
           "aaxis": {
            "gridcolor": "white",
            "linecolor": "white",
            "ticks": ""
           },
           "baxis": {
            "gridcolor": "white",
            "linecolor": "white",
            "ticks": ""
           },
           "bgcolor": "#E5ECF6",
           "caxis": {
            "gridcolor": "white",
            "linecolor": "white",
            "ticks": ""
           }
          },
          "title": {
           "x": 0.05
          },
          "xaxis": {
           "automargin": true,
           "gridcolor": "white",
           "linecolor": "white",
           "ticks": "",
           "title": {
            "standoff": 15
           },
           "zerolinecolor": "white",
           "zerolinewidth": 2
          },
          "yaxis": {
           "automargin": true,
           "gridcolor": "white",
           "linecolor": "white",
           "ticks": "",
           "title": {
            "standoff": 15
           },
           "zerolinecolor": "white",
           "zerolinewidth": 2
          }
         }
        }
       }
      },
      "text/html": [
       "<div>                            <div id=\"1e12f0ea-1225-43fd-b19a-d38854b3cb7d\" class=\"plotly-graph-div\" style=\"height:525px; width:100%;\"></div>            <script type=\"text/javascript\">                require([\"plotly\"], function(Plotly) {                    window.PLOTLYENV=window.PLOTLYENV || {};                                    if (document.getElementById(\"1e12f0ea-1225-43fd-b19a-d38854b3cb7d\")) {                    Plotly.newPlot(                        \"1e12f0ea-1225-43fd-b19a-d38854b3cb7d\",                        [{\"name\":\"accuracy\",\"x\":[1,2,3,4,5,6,7,8,9,10,11,12,13,14,15,16,17,18,19,20,21,22,23,24,25],\"y\":[0.8888888888888888,0.9111111111111111,0.9111111111111111,0.9111111111111111,0.9111111111111111,0.9111111111111111,0.9111111111111111,0.9111111111111111,0.9111111111111111,0.9333333333333333,0.9111111111111111,0.9111111111111111,0.9111111111111111,0.9111111111111111,0.9111111111111111,0.9333333333333333,0.9111111111111111,0.9111111111111111,0.9333333333333333,0.9111111111111111,0.9111111111111111,0.9111111111111111,0.9111111111111111,0.9333333333333333,0.9111111111111111],\"type\":\"scatter\"},{\"name\":\"F1\",\"x\":[1,2,3,4,5,6,7,8,9,10,11,12,13,14,15,16,17,18,19,20,21,22,23,24,25],\"y\":[0.8924731182795699,0.9138888888888889,0.9138888888888889,0.9138888888888889,0.9138888888888889,0.9138888888888889,0.9138888888888889,0.9138888888888889,0.9138888888888889,0.9352142110762801,0.9138888888888889,0.9138888888888889,0.9138888888888889,0.9138888888888889,0.9138888888888889,0.9352142110762801,0.9138888888888889,0.9138888888888889,0.9352142110762801,0.9138888888888889,0.9138888888888889,0.9138888888888889,0.9138888888888889,0.9352142110762801,0.9138888888888889],\"type\":\"scatter\"},{\"name\":\"Recall\",\"x\":[1,2,3,4,5,6,7,8,9,10,11,12,13,14,15,16,17,18,19,20,21,22,23,24,25],\"y\":[0.9074074074074074,0.9215686274509803,0.9215686274509803,0.9215686274509803,0.9215686274509803,0.9215686274509803,0.9215686274509803,0.9215686274509803,0.9215686274509803,0.9375,0.9215686274509803,0.9215686274509803,0.9215686274509803,0.9215686274509803,0.9215686274509803,0.9375,0.9215686274509803,0.9215686274509803,0.9375,0.9215686274509803,0.9215686274509803,0.9215686274509803,0.9215686274509803,0.9375,0.9215686274509803],\"type\":\"scatter\"},{\"name\":\"Precision\",\"x\":[1,2,3,4,5,6,7,8,9,10,11,12,13,14,15,16,17,18,19,20,21,22,23,24,25],\"y\":[0.9074074074074074,0.9259259259259259,0.9259259259259259,0.9259259259259259,0.9259259259259259,0.9259259259259259,0.9259259259259259,0.9259259259259259,0.9259259259259259,0.9444444444444445,0.9259259259259259,0.9259259259259259,0.9259259259259259,0.9259259259259259,0.9259259259259259,0.9444444444444445,0.9259259259259259,0.9259259259259259,0.9444444444444445,0.9259259259259259,0.9259259259259259,0.9259259259259259,0.9259259259259259,0.9444444444444445,0.9259259259259259],\"type\":\"scatter\"}],                        {\"template\":{\"data\":{\"bar\":[{\"error_x\":{\"color\":\"#2a3f5f\"},\"error_y\":{\"color\":\"#2a3f5f\"},\"marker\":{\"line\":{\"color\":\"#E5ECF6\",\"width\":0.5},\"pattern\":{\"fillmode\":\"overlay\",\"size\":10,\"solidity\":0.2}},\"type\":\"bar\"}],\"barpolar\":[{\"marker\":{\"line\":{\"color\":\"#E5ECF6\",\"width\":0.5},\"pattern\":{\"fillmode\":\"overlay\",\"size\":10,\"solidity\":0.2}},\"type\":\"barpolar\"}],\"carpet\":[{\"aaxis\":{\"endlinecolor\":\"#2a3f5f\",\"gridcolor\":\"white\",\"linecolor\":\"white\",\"minorgridcolor\":\"white\",\"startlinecolor\":\"#2a3f5f\"},\"baxis\":{\"endlinecolor\":\"#2a3f5f\",\"gridcolor\":\"white\",\"linecolor\":\"white\",\"minorgridcolor\":\"white\",\"startlinecolor\":\"#2a3f5f\"},\"type\":\"carpet\"}],\"choropleth\":[{\"colorbar\":{\"outlinewidth\":0,\"ticks\":\"\"},\"type\":\"choropleth\"}],\"contour\":[{\"colorbar\":{\"outlinewidth\":0,\"ticks\":\"\"},\"colorscale\":[[0.0,\"#0d0887\"],[0.1111111111111111,\"#46039f\"],[0.2222222222222222,\"#7201a8\"],[0.3333333333333333,\"#9c179e\"],[0.4444444444444444,\"#bd3786\"],[0.5555555555555556,\"#d8576b\"],[0.6666666666666666,\"#ed7953\"],[0.7777777777777778,\"#fb9f3a\"],[0.8888888888888888,\"#fdca26\"],[1.0,\"#f0f921\"]],\"type\":\"contour\"}],\"contourcarpet\":[{\"colorbar\":{\"outlinewidth\":0,\"ticks\":\"\"},\"type\":\"contourcarpet\"}],\"heatmap\":[{\"colorbar\":{\"outlinewidth\":0,\"ticks\":\"\"},\"colorscale\":[[0.0,\"#0d0887\"],[0.1111111111111111,\"#46039f\"],[0.2222222222222222,\"#7201a8\"],[0.3333333333333333,\"#9c179e\"],[0.4444444444444444,\"#bd3786\"],[0.5555555555555556,\"#d8576b\"],[0.6666666666666666,\"#ed7953\"],[0.7777777777777778,\"#fb9f3a\"],[0.8888888888888888,\"#fdca26\"],[1.0,\"#f0f921\"]],\"type\":\"heatmap\"}],\"heatmapgl\":[{\"colorbar\":{\"outlinewidth\":0,\"ticks\":\"\"},\"colorscale\":[[0.0,\"#0d0887\"],[0.1111111111111111,\"#46039f\"],[0.2222222222222222,\"#7201a8\"],[0.3333333333333333,\"#9c179e\"],[0.4444444444444444,\"#bd3786\"],[0.5555555555555556,\"#d8576b\"],[0.6666666666666666,\"#ed7953\"],[0.7777777777777778,\"#fb9f3a\"],[0.8888888888888888,\"#fdca26\"],[1.0,\"#f0f921\"]],\"type\":\"heatmapgl\"}],\"histogram\":[{\"marker\":{\"pattern\":{\"fillmode\":\"overlay\",\"size\":10,\"solidity\":0.2}},\"type\":\"histogram\"}],\"histogram2d\":[{\"colorbar\":{\"outlinewidth\":0,\"ticks\":\"\"},\"colorscale\":[[0.0,\"#0d0887\"],[0.1111111111111111,\"#46039f\"],[0.2222222222222222,\"#7201a8\"],[0.3333333333333333,\"#9c179e\"],[0.4444444444444444,\"#bd3786\"],[0.5555555555555556,\"#d8576b\"],[0.6666666666666666,\"#ed7953\"],[0.7777777777777778,\"#fb9f3a\"],[0.8888888888888888,\"#fdca26\"],[1.0,\"#f0f921\"]],\"type\":\"histogram2d\"}],\"histogram2dcontour\":[{\"colorbar\":{\"outlinewidth\":0,\"ticks\":\"\"},\"colorscale\":[[0.0,\"#0d0887\"],[0.1111111111111111,\"#46039f\"],[0.2222222222222222,\"#7201a8\"],[0.3333333333333333,\"#9c179e\"],[0.4444444444444444,\"#bd3786\"],[0.5555555555555556,\"#d8576b\"],[0.6666666666666666,\"#ed7953\"],[0.7777777777777778,\"#fb9f3a\"],[0.8888888888888888,\"#fdca26\"],[1.0,\"#f0f921\"]],\"type\":\"histogram2dcontour\"}],\"mesh3d\":[{\"colorbar\":{\"outlinewidth\":0,\"ticks\":\"\"},\"type\":\"mesh3d\"}],\"parcoords\":[{\"line\":{\"colorbar\":{\"outlinewidth\":0,\"ticks\":\"\"}},\"type\":\"parcoords\"}],\"pie\":[{\"automargin\":true,\"type\":\"pie\"}],\"scatter\":[{\"marker\":{\"colorbar\":{\"outlinewidth\":0,\"ticks\":\"\"}},\"type\":\"scatter\"}],\"scatter3d\":[{\"line\":{\"colorbar\":{\"outlinewidth\":0,\"ticks\":\"\"}},\"marker\":{\"colorbar\":{\"outlinewidth\":0,\"ticks\":\"\"}},\"type\":\"scatter3d\"}],\"scattercarpet\":[{\"marker\":{\"colorbar\":{\"outlinewidth\":0,\"ticks\":\"\"}},\"type\":\"scattercarpet\"}],\"scattergeo\":[{\"marker\":{\"colorbar\":{\"outlinewidth\":0,\"ticks\":\"\"}},\"type\":\"scattergeo\"}],\"scattergl\":[{\"marker\":{\"colorbar\":{\"outlinewidth\":0,\"ticks\":\"\"}},\"type\":\"scattergl\"}],\"scattermapbox\":[{\"marker\":{\"colorbar\":{\"outlinewidth\":0,\"ticks\":\"\"}},\"type\":\"scattermapbox\"}],\"scatterpolar\":[{\"marker\":{\"colorbar\":{\"outlinewidth\":0,\"ticks\":\"\"}},\"type\":\"scatterpolar\"}],\"scatterpolargl\":[{\"marker\":{\"colorbar\":{\"outlinewidth\":0,\"ticks\":\"\"}},\"type\":\"scatterpolargl\"}],\"scatterternary\":[{\"marker\":{\"colorbar\":{\"outlinewidth\":0,\"ticks\":\"\"}},\"type\":\"scatterternary\"}],\"surface\":[{\"colorbar\":{\"outlinewidth\":0,\"ticks\":\"\"},\"colorscale\":[[0.0,\"#0d0887\"],[0.1111111111111111,\"#46039f\"],[0.2222222222222222,\"#7201a8\"],[0.3333333333333333,\"#9c179e\"],[0.4444444444444444,\"#bd3786\"],[0.5555555555555556,\"#d8576b\"],[0.6666666666666666,\"#ed7953\"],[0.7777777777777778,\"#fb9f3a\"],[0.8888888888888888,\"#fdca26\"],[1.0,\"#f0f921\"]],\"type\":\"surface\"}],\"table\":[{\"cells\":{\"fill\":{\"color\":\"#EBF0F8\"},\"line\":{\"color\":\"white\"}},\"header\":{\"fill\":{\"color\":\"#C8D4E3\"},\"line\":{\"color\":\"white\"}},\"type\":\"table\"}]},\"layout\":{\"annotationdefaults\":{\"arrowcolor\":\"#2a3f5f\",\"arrowhead\":0,\"arrowwidth\":1},\"autotypenumbers\":\"strict\",\"coloraxis\":{\"colorbar\":{\"outlinewidth\":0,\"ticks\":\"\"}},\"colorscale\":{\"diverging\":[[0,\"#8e0152\"],[0.1,\"#c51b7d\"],[0.2,\"#de77ae\"],[0.3,\"#f1b6da\"],[0.4,\"#fde0ef\"],[0.5,\"#f7f7f7\"],[0.6,\"#e6f5d0\"],[0.7,\"#b8e186\"],[0.8,\"#7fbc41\"],[0.9,\"#4d9221\"],[1,\"#276419\"]],\"sequential\":[[0.0,\"#0d0887\"],[0.1111111111111111,\"#46039f\"],[0.2222222222222222,\"#7201a8\"],[0.3333333333333333,\"#9c179e\"],[0.4444444444444444,\"#bd3786\"],[0.5555555555555556,\"#d8576b\"],[0.6666666666666666,\"#ed7953\"],[0.7777777777777778,\"#fb9f3a\"],[0.8888888888888888,\"#fdca26\"],[1.0,\"#f0f921\"]],\"sequentialminus\":[[0.0,\"#0d0887\"],[0.1111111111111111,\"#46039f\"],[0.2222222222222222,\"#7201a8\"],[0.3333333333333333,\"#9c179e\"],[0.4444444444444444,\"#bd3786\"],[0.5555555555555556,\"#d8576b\"],[0.6666666666666666,\"#ed7953\"],[0.7777777777777778,\"#fb9f3a\"],[0.8888888888888888,\"#fdca26\"],[1.0,\"#f0f921\"]]},\"colorway\":[\"#636efa\",\"#EF553B\",\"#00cc96\",\"#ab63fa\",\"#FFA15A\",\"#19d3f3\",\"#FF6692\",\"#B6E880\",\"#FF97FF\",\"#FECB52\"],\"font\":{\"color\":\"#2a3f5f\"},\"geo\":{\"bgcolor\":\"white\",\"lakecolor\":\"white\",\"landcolor\":\"#E5ECF6\",\"showlakes\":true,\"showland\":true,\"subunitcolor\":\"white\"},\"hoverlabel\":{\"align\":\"left\"},\"hovermode\":\"closest\",\"mapbox\":{\"style\":\"light\"},\"paper_bgcolor\":\"white\",\"plot_bgcolor\":\"#E5ECF6\",\"polar\":{\"angularaxis\":{\"gridcolor\":\"white\",\"linecolor\":\"white\",\"ticks\":\"\"},\"bgcolor\":\"#E5ECF6\",\"radialaxis\":{\"gridcolor\":\"white\",\"linecolor\":\"white\",\"ticks\":\"\"}},\"scene\":{\"xaxis\":{\"backgroundcolor\":\"#E5ECF6\",\"gridcolor\":\"white\",\"gridwidth\":2,\"linecolor\":\"white\",\"showbackground\":true,\"ticks\":\"\",\"zerolinecolor\":\"white\"},\"yaxis\":{\"backgroundcolor\":\"#E5ECF6\",\"gridcolor\":\"white\",\"gridwidth\":2,\"linecolor\":\"white\",\"showbackground\":true,\"ticks\":\"\",\"zerolinecolor\":\"white\"},\"zaxis\":{\"backgroundcolor\":\"#E5ECF6\",\"gridcolor\":\"white\",\"gridwidth\":2,\"linecolor\":\"white\",\"showbackground\":true,\"ticks\":\"\",\"zerolinecolor\":\"white\"}},\"shapedefaults\":{\"line\":{\"color\":\"#2a3f5f\"}},\"ternary\":{\"aaxis\":{\"gridcolor\":\"white\",\"linecolor\":\"white\",\"ticks\":\"\"},\"baxis\":{\"gridcolor\":\"white\",\"linecolor\":\"white\",\"ticks\":\"\"},\"bgcolor\":\"#E5ECF6\",\"caxis\":{\"gridcolor\":\"white\",\"linecolor\":\"white\",\"ticks\":\"\"}},\"title\":{\"x\":0.05},\"xaxis\":{\"automargin\":true,\"gridcolor\":\"white\",\"linecolor\":\"white\",\"ticks\":\"\",\"title\":{\"standoff\":15},\"zerolinecolor\":\"white\",\"zerolinewidth\":2},\"yaxis\":{\"automargin\":true,\"gridcolor\":\"white\",\"linecolor\":\"white\",\"ticks\":\"\",\"title\":{\"standoff\":15},\"zerolinecolor\":\"white\",\"zerolinewidth\":2}}}},                        {\"responsive\": true}                    ).then(function(){\n",
       "                            \n",
       "var gd = document.getElementById('1e12f0ea-1225-43fd-b19a-d38854b3cb7d');\n",
       "var x = new MutationObserver(function (mutations, observer) {{\n",
       "        var display = window.getComputedStyle(gd).display;\n",
       "        if (!display || display === 'none') {{\n",
       "            console.log([gd, 'removed!']);\n",
       "            Plotly.purge(gd);\n",
       "            observer.disconnect();\n",
       "        }}\n",
       "}});\n",
       "\n",
       "// Listen for the removal of the full notebook cells\n",
       "var notebookContainer = gd.closest('#notebook-container');\n",
       "if (notebookContainer) {{\n",
       "    x.observe(notebookContainer, {childList: true});\n",
       "}}\n",
       "\n",
       "// Listen for the clearing of the current output cell\n",
       "var outputEl = gd.closest('.output');\n",
       "if (outputEl) {{\n",
       "    x.observe(outputEl, {childList: true});\n",
       "}}\n",
       "\n",
       "                        })                };                });            </script>        </div>"
      ]
     },
     "metadata": {},
     "output_type": "display_data"
    }
   ],
   "source": [
    "acc_lst = [x[0] for x in iris_mets]\n",
    "f1_lst = [x[1] for x in iris_mets]\n",
    "prec_lst = [x[2] for x in iris_mets]\n",
    "recall_lst = [x[3] for x in iris_mets]\n",
    "\n",
    "\n",
    "\n",
    "fig = go.Figure()\n",
    "fig.add_trace(go.Scatter(x=depths, y=acc_lst, name=\"accuracy\"))\n",
    "fig.add_trace(go.Scatter(x=depths, y=f1_lst, name=\"F1\"))\n",
    "fig.add_trace(go.Scatter(x=depths, y=recall_lst, name=\"Recall\"))\n",
    "fig.add_trace(go.Scatter(x=depths, y=prec_lst, name=\"Precision\"))\n",
    "fig.write_image(\"images/fig_iris_depth.pdf\")\n",
    "fig.show()"
   ]
  },
  {
   "cell_type": "markdown",
   "id": "4c76a207",
   "metadata": {},
   "source": [
    "### stars"
   ]
  },
  {
   "cell_type": "code",
   "execution_count": 20,
   "id": "55e13505",
   "metadata": {},
   "outputs": [
    {
     "name": "stdout",
     "output_type": "stream",
     "text": [
      "Metrics for depth: 1:\n"
     ]
    },
    {
     "name": "stderr",
     "output_type": "stream",
     "text": [
      "/usr/local/lib/python3.9/site-packages/sklearn/metrics/_classification.py:1327: UndefinedMetricWarning:\n",
      "\n",
      "Precision is ill-defined and being set to 0.0 in labels with no predicted samples. Use `zero_division` parameter to control this behavior.\n",
      "\n"
     ]
    },
    {
     "name": "stdout",
     "output_type": "stream",
     "text": [
      "Accuracy 0.6101666666666666\n",
      "F1 Score 0.2968660616995406\n",
      "Recall 0.35768491135093256\n",
      "Precision 0.5220886069482784\n",
      "\n",
      "Metrics for depth: 2:\n",
      "Accuracy 0.8829\n",
      "F1 Score 0.8417765438939755\n",
      "Recall 0.8085711257949484\n",
      "Precision 0.9222195895796802\n",
      "\n",
      "Metrics for depth: 3:\n",
      "Accuracy 0.9271333333333334\n",
      "F1 Score 0.9104674804341877\n",
      "Recall 0.8900141685304779\n",
      "Precision 0.9403246812291502\n",
      "\n",
      "Metrics for depth: 4:\n",
      "Accuracy 0.9547666666666667\n",
      "F1 Score 0.9460963380525742\n",
      "Recall 0.9378959709010886\n",
      "Precision 0.9566221950339338\n",
      "\n",
      "Metrics for depth: 5:\n",
      "Accuracy 0.9592666666666667\n",
      "F1 Score 0.9518568384377516\n",
      "Recall 0.9454911691889184\n",
      "Precision 0.9597368494464042\n",
      "\n",
      "Metrics for depth: 6:\n",
      "Accuracy 0.9635333333333334\n",
      "F1 Score 0.9572578353931438\n",
      "Recall 0.9527868539093506\n",
      "Precision 0.9626640714470228\n",
      "\n",
      "Metrics for depth: 7:\n",
      "Accuracy 0.9703666666666667\n",
      "F1 Score 0.9655484775185413\n",
      "Recall 0.9624950753995356\n",
      "Precision 0.9691674086884207\n",
      "\n",
      "Metrics for depth: 8:\n",
      "Accuracy 0.9733666666666667\n",
      "F1 Score 0.9691695916068234\n",
      "Recall 0.9668740805141162\n",
      "Precision 0.9718876513494488\n",
      "\n",
      "Metrics for depth: 9:\n",
      "Accuracy 0.9741333333333333\n",
      "F1 Score 0.9700686361942639\n",
      "Recall 0.9677869267562706\n",
      "Precision 0.9727594871659143\n",
      "\n",
      "Metrics for depth: 10:\n",
      "Accuracy 0.9752666666666666\n",
      "F1 Score 0.9713731824117361\n",
      "Recall 0.9693884291273637\n",
      "Precision 0.9736722892111066\n",
      "\n",
      "Metrics for depth: 11:\n",
      "Accuracy 0.9758\n",
      "F1 Score 0.9719195133685105\n",
      "Recall 0.9694860373928362\n",
      "Precision 0.9746853293287002\n",
      "\n",
      "Metrics for depth: 12:\n",
      "Accuracy 0.9755666666666667\n",
      "F1 Score 0.9717009654062081\n",
      "Recall 0.969596834089372\n",
      "Precision 0.9741199928546956\n",
      "\n",
      "Metrics for depth: 13:\n",
      "Accuracy 0.9764\n",
      "F1 Score 0.9726054714432696\n",
      "Recall 0.9702249463336244\n",
      "Precision 0.9752878970265199\n",
      "\n",
      "Metrics for depth: 14:\n",
      "Accuracy 0.9771\n",
      "F1 Score 0.9733847014500947\n",
      "Recall 0.9707783285401382\n",
      "Precision 0.9762971076489881\n",
      "\n",
      "Metrics for depth: 15:\n",
      "Accuracy 0.9769666666666666\n",
      "F1 Score 0.9732109225420987\n",
      "Recall 0.9706633361253031\n",
      "Precision 0.9760411456364554\n",
      "\n",
      "Metrics for depth: 16:\n",
      "Accuracy 0.9772333333333333\n",
      "F1 Score 0.97351600605918\n",
      "Recall 0.9709815322021352\n",
      "Precision 0.9763156632626869\n",
      "\n",
      "Metrics for depth: 17:\n",
      "Accuracy 0.9774333333333334\n",
      "F1 Score 0.9737483187198804\n",
      "Recall 0.9713275150283526\n",
      "Precision 0.976417822148481\n",
      "\n",
      "Metrics for depth: 18:\n",
      "Accuracy 0.9783\n",
      "F1 Score 0.9747220330882632\n",
      "Recall 0.9721430457833945\n",
      "Precision 0.9775343453005748\n",
      "\n",
      "Metrics for depth: 19:\n",
      "Accuracy 0.9779666666666667\n",
      "F1 Score 0.9743359264686426\n",
      "Recall 0.9716666975564037\n",
      "Precision 0.9772665636702431\n",
      "\n",
      "Metrics for depth: 20:\n",
      "Accuracy 0.9774\n",
      "F1 Score 0.9736923187238088\n",
      "Recall 0.9711957318805978\n",
      "Precision 0.9764321780870547\n",
      "\n",
      "Metrics for depth: 21:\n",
      "Accuracy 0.9781666666666666\n",
      "F1 Score 0.9746087414712791\n",
      "Recall 0.9723098900082344\n",
      "Precision 0.9771247512479325\n",
      "\n",
      "Metrics for depth: 22:\n",
      "Accuracy 0.9782\n",
      "F1 Score 0.9746490615021752\n",
      "Recall 0.972409097271862\n",
      "Precision 0.977097383193442\n",
      "\n",
      "Metrics for depth: 23:\n",
      "Accuracy 0.9777666666666667\n",
      "F1 Score 0.974137000781444\n",
      "Recall 0.9718843880095362\n",
      "Precision 0.9765998064739785\n",
      "\n",
      "Metrics for depth: 24:\n",
      "Accuracy 0.9777666666666667\n",
      "F1 Score 0.9741174611971765\n",
      "Recall 0.9715948648768921\n",
      "Precision 0.9768885344315055\n",
      "\n",
      "Metrics for depth: 25:\n",
      "Accuracy 0.9779333333333333\n",
      "F1 Score 0.9743089912804289\n",
      "Recall 0.9714543896544562\n",
      "Precision 0.9774614779785747\n",
      "\n"
     ]
    }
   ],
   "source": [
    "star_mets = []\n",
    "for depth in depths:\n",
    "    print(f\"Metrics for depth: {depth}:\")\n",
    "    classifier = RandomForestClassifier(max_depth=depth)\n",
    "\n",
    "    classifier.fit(stars_x_train, stars_y_train)\n",
    "    predictions = classifier.predict(stars_x_test)\n",
    "    \n",
    "    acc = accuracy_score(stars_y_test, predictions)\n",
    "    f1 = f1_score(stars_y_test, predictions, average='macro')\n",
    "    recall = recall_score(stars_y_test, predictions, average='macro')\n",
    "    prec = precision_score(stars_y_test, predictions, average='macro')\n",
    "\n",
    "    print(f\"Accuracy {acc}\")\n",
    "    print(f\"F1 Score {f1}\")\n",
    "    print(f\"Recall {recall}\")\n",
    "    print(f\"Precision {prec}\\n\")\n",
    "    \n",
    "    star_mets.append((acc, f1, recall, prec))\n",
    "    "
   ]
  },
  {
   "cell_type": "code",
   "execution_count": 23,
   "id": "fcb8b657",
   "metadata": {},
   "outputs": [
    {
     "data": {
      "application/vnd.plotly.v1+json": {
       "config": {
        "plotlyServerURL": "https://plot.ly"
       },
       "data": [
        {
         "name": "accuracy",
         "type": "scatter",
         "x": [
          1,
          2,
          3,
          4,
          5,
          6,
          7,
          8,
          9,
          10,
          11,
          12,
          13,
          14,
          15,
          16,
          17,
          18,
          19,
          20,
          21,
          22,
          23,
          24,
          25
         ],
         "y": [
          0.6101666666666666,
          0.8829,
          0.9271333333333334,
          0.9547666666666667,
          0.9592666666666667,
          0.9635333333333334,
          0.9703666666666667,
          0.9733666666666667,
          0.9741333333333333,
          0.9752666666666666,
          0.9758,
          0.9755666666666667,
          0.9764,
          0.9771,
          0.9769666666666666,
          0.9772333333333333,
          0.9774333333333334,
          0.9783,
          0.9779666666666667,
          0.9774,
          0.9781666666666666,
          0.9782,
          0.9777666666666667,
          0.9777666666666667,
          0.9779333333333333
         ]
        },
        {
         "name": "F1",
         "type": "scatter",
         "x": [
          1,
          2,
          3,
          4,
          5,
          6,
          7,
          8,
          9,
          10,
          11,
          12,
          13,
          14,
          15,
          16,
          17,
          18,
          19,
          20,
          21,
          22,
          23,
          24,
          25
         ],
         "y": [
          0.2968660616995406,
          0.8417765438939755,
          0.9104674804341877,
          0.9460963380525742,
          0.9518568384377516,
          0.9572578353931438,
          0.9655484775185413,
          0.9691695916068234,
          0.9700686361942639,
          0.9713731824117361,
          0.9719195133685105,
          0.9717009654062081,
          0.9726054714432696,
          0.9733847014500947,
          0.9732109225420987,
          0.97351600605918,
          0.9737483187198804,
          0.9747220330882632,
          0.9743359264686426,
          0.9736923187238088,
          0.9746087414712791,
          0.9746490615021752,
          0.974137000781444,
          0.9741174611971765,
          0.9743089912804289
         ]
        },
        {
         "name": "Recall",
         "type": "scatter",
         "x": [
          1,
          2,
          3,
          4,
          5,
          6,
          7,
          8,
          9,
          10,
          11,
          12,
          13,
          14,
          15,
          16,
          17,
          18,
          19,
          20,
          21,
          22,
          23,
          24,
          25
         ],
         "y": [
          0.5220886069482784,
          0.9222195895796802,
          0.9403246812291502,
          0.9566221950339338,
          0.9597368494464042,
          0.9626640714470228,
          0.9691674086884207,
          0.9718876513494488,
          0.9727594871659143,
          0.9736722892111066,
          0.9746853293287002,
          0.9741199928546956,
          0.9752878970265199,
          0.9762971076489881,
          0.9760411456364554,
          0.9763156632626869,
          0.976417822148481,
          0.9775343453005748,
          0.9772665636702431,
          0.9764321780870547,
          0.9771247512479325,
          0.977097383193442,
          0.9765998064739785,
          0.9768885344315055,
          0.9774614779785747
         ]
        },
        {
         "name": "Precision",
         "type": "scatter",
         "x": [
          1,
          2,
          3,
          4,
          5,
          6,
          7,
          8,
          9,
          10,
          11,
          12,
          13,
          14,
          15,
          16,
          17,
          18,
          19,
          20,
          21,
          22,
          23,
          24,
          25
         ],
         "y": [
          0.35768491135093256,
          0.8085711257949484,
          0.8900141685304779,
          0.9378959709010886,
          0.9454911691889184,
          0.9527868539093506,
          0.9624950753995356,
          0.9668740805141162,
          0.9677869267562706,
          0.9693884291273637,
          0.9694860373928362,
          0.969596834089372,
          0.9702249463336244,
          0.9707783285401382,
          0.9706633361253031,
          0.9709815322021352,
          0.9713275150283526,
          0.9721430457833945,
          0.9716666975564037,
          0.9711957318805978,
          0.9723098900082344,
          0.972409097271862,
          0.9718843880095362,
          0.9715948648768921,
          0.9714543896544562
         ]
        }
       ],
       "layout": {
        "template": {
         "data": {
          "bar": [
           {
            "error_x": {
             "color": "#2a3f5f"
            },
            "error_y": {
             "color": "#2a3f5f"
            },
            "marker": {
             "line": {
              "color": "#E5ECF6",
              "width": 0.5
             },
             "pattern": {
              "fillmode": "overlay",
              "size": 10,
              "solidity": 0.2
             }
            },
            "type": "bar"
           }
          ],
          "barpolar": [
           {
            "marker": {
             "line": {
              "color": "#E5ECF6",
              "width": 0.5
             },
             "pattern": {
              "fillmode": "overlay",
              "size": 10,
              "solidity": 0.2
             }
            },
            "type": "barpolar"
           }
          ],
          "carpet": [
           {
            "aaxis": {
             "endlinecolor": "#2a3f5f",
             "gridcolor": "white",
             "linecolor": "white",
             "minorgridcolor": "white",
             "startlinecolor": "#2a3f5f"
            },
            "baxis": {
             "endlinecolor": "#2a3f5f",
             "gridcolor": "white",
             "linecolor": "white",
             "minorgridcolor": "white",
             "startlinecolor": "#2a3f5f"
            },
            "type": "carpet"
           }
          ],
          "choropleth": [
           {
            "colorbar": {
             "outlinewidth": 0,
             "ticks": ""
            },
            "type": "choropleth"
           }
          ],
          "contour": [
           {
            "colorbar": {
             "outlinewidth": 0,
             "ticks": ""
            },
            "colorscale": [
             [
              0,
              "#0d0887"
             ],
             [
              0.1111111111111111,
              "#46039f"
             ],
             [
              0.2222222222222222,
              "#7201a8"
             ],
             [
              0.3333333333333333,
              "#9c179e"
             ],
             [
              0.4444444444444444,
              "#bd3786"
             ],
             [
              0.5555555555555556,
              "#d8576b"
             ],
             [
              0.6666666666666666,
              "#ed7953"
             ],
             [
              0.7777777777777778,
              "#fb9f3a"
             ],
             [
              0.8888888888888888,
              "#fdca26"
             ],
             [
              1,
              "#f0f921"
             ]
            ],
            "type": "contour"
           }
          ],
          "contourcarpet": [
           {
            "colorbar": {
             "outlinewidth": 0,
             "ticks": ""
            },
            "type": "contourcarpet"
           }
          ],
          "heatmap": [
           {
            "colorbar": {
             "outlinewidth": 0,
             "ticks": ""
            },
            "colorscale": [
             [
              0,
              "#0d0887"
             ],
             [
              0.1111111111111111,
              "#46039f"
             ],
             [
              0.2222222222222222,
              "#7201a8"
             ],
             [
              0.3333333333333333,
              "#9c179e"
             ],
             [
              0.4444444444444444,
              "#bd3786"
             ],
             [
              0.5555555555555556,
              "#d8576b"
             ],
             [
              0.6666666666666666,
              "#ed7953"
             ],
             [
              0.7777777777777778,
              "#fb9f3a"
             ],
             [
              0.8888888888888888,
              "#fdca26"
             ],
             [
              1,
              "#f0f921"
             ]
            ],
            "type": "heatmap"
           }
          ],
          "heatmapgl": [
           {
            "colorbar": {
             "outlinewidth": 0,
             "ticks": ""
            },
            "colorscale": [
             [
              0,
              "#0d0887"
             ],
             [
              0.1111111111111111,
              "#46039f"
             ],
             [
              0.2222222222222222,
              "#7201a8"
             ],
             [
              0.3333333333333333,
              "#9c179e"
             ],
             [
              0.4444444444444444,
              "#bd3786"
             ],
             [
              0.5555555555555556,
              "#d8576b"
             ],
             [
              0.6666666666666666,
              "#ed7953"
             ],
             [
              0.7777777777777778,
              "#fb9f3a"
             ],
             [
              0.8888888888888888,
              "#fdca26"
             ],
             [
              1,
              "#f0f921"
             ]
            ],
            "type": "heatmapgl"
           }
          ],
          "histogram": [
           {
            "marker": {
             "pattern": {
              "fillmode": "overlay",
              "size": 10,
              "solidity": 0.2
             }
            },
            "type": "histogram"
           }
          ],
          "histogram2d": [
           {
            "colorbar": {
             "outlinewidth": 0,
             "ticks": ""
            },
            "colorscale": [
             [
              0,
              "#0d0887"
             ],
             [
              0.1111111111111111,
              "#46039f"
             ],
             [
              0.2222222222222222,
              "#7201a8"
             ],
             [
              0.3333333333333333,
              "#9c179e"
             ],
             [
              0.4444444444444444,
              "#bd3786"
             ],
             [
              0.5555555555555556,
              "#d8576b"
             ],
             [
              0.6666666666666666,
              "#ed7953"
             ],
             [
              0.7777777777777778,
              "#fb9f3a"
             ],
             [
              0.8888888888888888,
              "#fdca26"
             ],
             [
              1,
              "#f0f921"
             ]
            ],
            "type": "histogram2d"
           }
          ],
          "histogram2dcontour": [
           {
            "colorbar": {
             "outlinewidth": 0,
             "ticks": ""
            },
            "colorscale": [
             [
              0,
              "#0d0887"
             ],
             [
              0.1111111111111111,
              "#46039f"
             ],
             [
              0.2222222222222222,
              "#7201a8"
             ],
             [
              0.3333333333333333,
              "#9c179e"
             ],
             [
              0.4444444444444444,
              "#bd3786"
             ],
             [
              0.5555555555555556,
              "#d8576b"
             ],
             [
              0.6666666666666666,
              "#ed7953"
             ],
             [
              0.7777777777777778,
              "#fb9f3a"
             ],
             [
              0.8888888888888888,
              "#fdca26"
             ],
             [
              1,
              "#f0f921"
             ]
            ],
            "type": "histogram2dcontour"
           }
          ],
          "mesh3d": [
           {
            "colorbar": {
             "outlinewidth": 0,
             "ticks": ""
            },
            "type": "mesh3d"
           }
          ],
          "parcoords": [
           {
            "line": {
             "colorbar": {
              "outlinewidth": 0,
              "ticks": ""
             }
            },
            "type": "parcoords"
           }
          ],
          "pie": [
           {
            "automargin": true,
            "type": "pie"
           }
          ],
          "scatter": [
           {
            "marker": {
             "colorbar": {
              "outlinewidth": 0,
              "ticks": ""
             }
            },
            "type": "scatter"
           }
          ],
          "scatter3d": [
           {
            "line": {
             "colorbar": {
              "outlinewidth": 0,
              "ticks": ""
             }
            },
            "marker": {
             "colorbar": {
              "outlinewidth": 0,
              "ticks": ""
             }
            },
            "type": "scatter3d"
           }
          ],
          "scattercarpet": [
           {
            "marker": {
             "colorbar": {
              "outlinewidth": 0,
              "ticks": ""
             }
            },
            "type": "scattercarpet"
           }
          ],
          "scattergeo": [
           {
            "marker": {
             "colorbar": {
              "outlinewidth": 0,
              "ticks": ""
             }
            },
            "type": "scattergeo"
           }
          ],
          "scattergl": [
           {
            "marker": {
             "colorbar": {
              "outlinewidth": 0,
              "ticks": ""
             }
            },
            "type": "scattergl"
           }
          ],
          "scattermapbox": [
           {
            "marker": {
             "colorbar": {
              "outlinewidth": 0,
              "ticks": ""
             }
            },
            "type": "scattermapbox"
           }
          ],
          "scatterpolar": [
           {
            "marker": {
             "colorbar": {
              "outlinewidth": 0,
              "ticks": ""
             }
            },
            "type": "scatterpolar"
           }
          ],
          "scatterpolargl": [
           {
            "marker": {
             "colorbar": {
              "outlinewidth": 0,
              "ticks": ""
             }
            },
            "type": "scatterpolargl"
           }
          ],
          "scatterternary": [
           {
            "marker": {
             "colorbar": {
              "outlinewidth": 0,
              "ticks": ""
             }
            },
            "type": "scatterternary"
           }
          ],
          "surface": [
           {
            "colorbar": {
             "outlinewidth": 0,
             "ticks": ""
            },
            "colorscale": [
             [
              0,
              "#0d0887"
             ],
             [
              0.1111111111111111,
              "#46039f"
             ],
             [
              0.2222222222222222,
              "#7201a8"
             ],
             [
              0.3333333333333333,
              "#9c179e"
             ],
             [
              0.4444444444444444,
              "#bd3786"
             ],
             [
              0.5555555555555556,
              "#d8576b"
             ],
             [
              0.6666666666666666,
              "#ed7953"
             ],
             [
              0.7777777777777778,
              "#fb9f3a"
             ],
             [
              0.8888888888888888,
              "#fdca26"
             ],
             [
              1,
              "#f0f921"
             ]
            ],
            "type": "surface"
           }
          ],
          "table": [
           {
            "cells": {
             "fill": {
              "color": "#EBF0F8"
             },
             "line": {
              "color": "white"
             }
            },
            "header": {
             "fill": {
              "color": "#C8D4E3"
             },
             "line": {
              "color": "white"
             }
            },
            "type": "table"
           }
          ]
         },
         "layout": {
          "annotationdefaults": {
           "arrowcolor": "#2a3f5f",
           "arrowhead": 0,
           "arrowwidth": 1
          },
          "autotypenumbers": "strict",
          "coloraxis": {
           "colorbar": {
            "outlinewidth": 0,
            "ticks": ""
           }
          },
          "colorscale": {
           "diverging": [
            [
             0,
             "#8e0152"
            ],
            [
             0.1,
             "#c51b7d"
            ],
            [
             0.2,
             "#de77ae"
            ],
            [
             0.3,
             "#f1b6da"
            ],
            [
             0.4,
             "#fde0ef"
            ],
            [
             0.5,
             "#f7f7f7"
            ],
            [
             0.6,
             "#e6f5d0"
            ],
            [
             0.7,
             "#b8e186"
            ],
            [
             0.8,
             "#7fbc41"
            ],
            [
             0.9,
             "#4d9221"
            ],
            [
             1,
             "#276419"
            ]
           ],
           "sequential": [
            [
             0,
             "#0d0887"
            ],
            [
             0.1111111111111111,
             "#46039f"
            ],
            [
             0.2222222222222222,
             "#7201a8"
            ],
            [
             0.3333333333333333,
             "#9c179e"
            ],
            [
             0.4444444444444444,
             "#bd3786"
            ],
            [
             0.5555555555555556,
             "#d8576b"
            ],
            [
             0.6666666666666666,
             "#ed7953"
            ],
            [
             0.7777777777777778,
             "#fb9f3a"
            ],
            [
             0.8888888888888888,
             "#fdca26"
            ],
            [
             1,
             "#f0f921"
            ]
           ],
           "sequentialminus": [
            [
             0,
             "#0d0887"
            ],
            [
             0.1111111111111111,
             "#46039f"
            ],
            [
             0.2222222222222222,
             "#7201a8"
            ],
            [
             0.3333333333333333,
             "#9c179e"
            ],
            [
             0.4444444444444444,
             "#bd3786"
            ],
            [
             0.5555555555555556,
             "#d8576b"
            ],
            [
             0.6666666666666666,
             "#ed7953"
            ],
            [
             0.7777777777777778,
             "#fb9f3a"
            ],
            [
             0.8888888888888888,
             "#fdca26"
            ],
            [
             1,
             "#f0f921"
            ]
           ]
          },
          "colorway": [
           "#636efa",
           "#EF553B",
           "#00cc96",
           "#ab63fa",
           "#FFA15A",
           "#19d3f3",
           "#FF6692",
           "#B6E880",
           "#FF97FF",
           "#FECB52"
          ],
          "font": {
           "color": "#2a3f5f"
          },
          "geo": {
           "bgcolor": "white",
           "lakecolor": "white",
           "landcolor": "#E5ECF6",
           "showlakes": true,
           "showland": true,
           "subunitcolor": "white"
          },
          "hoverlabel": {
           "align": "left"
          },
          "hovermode": "closest",
          "mapbox": {
           "style": "light"
          },
          "paper_bgcolor": "white",
          "plot_bgcolor": "#E5ECF6",
          "polar": {
           "angularaxis": {
            "gridcolor": "white",
            "linecolor": "white",
            "ticks": ""
           },
           "bgcolor": "#E5ECF6",
           "radialaxis": {
            "gridcolor": "white",
            "linecolor": "white",
            "ticks": ""
           }
          },
          "scene": {
           "xaxis": {
            "backgroundcolor": "#E5ECF6",
            "gridcolor": "white",
            "gridwidth": 2,
            "linecolor": "white",
            "showbackground": true,
            "ticks": "",
            "zerolinecolor": "white"
           },
           "yaxis": {
            "backgroundcolor": "#E5ECF6",
            "gridcolor": "white",
            "gridwidth": 2,
            "linecolor": "white",
            "showbackground": true,
            "ticks": "",
            "zerolinecolor": "white"
           },
           "zaxis": {
            "backgroundcolor": "#E5ECF6",
            "gridcolor": "white",
            "gridwidth": 2,
            "linecolor": "white",
            "showbackground": true,
            "ticks": "",
            "zerolinecolor": "white"
           }
          },
          "shapedefaults": {
           "line": {
            "color": "#2a3f5f"
           }
          },
          "ternary": {
           "aaxis": {
            "gridcolor": "white",
            "linecolor": "white",
            "ticks": ""
           },
           "baxis": {
            "gridcolor": "white",
            "linecolor": "white",
            "ticks": ""
           },
           "bgcolor": "#E5ECF6",
           "caxis": {
            "gridcolor": "white",
            "linecolor": "white",
            "ticks": ""
           }
          },
          "title": {
           "x": 0.05
          },
          "xaxis": {
           "automargin": true,
           "gridcolor": "white",
           "linecolor": "white",
           "ticks": "",
           "title": {
            "standoff": 15
           },
           "zerolinecolor": "white",
           "zerolinewidth": 2
          },
          "yaxis": {
           "automargin": true,
           "gridcolor": "white",
           "linecolor": "white",
           "ticks": "",
           "title": {
            "standoff": 15
           },
           "zerolinecolor": "white",
           "zerolinewidth": 2
          }
         }
        }
       }
      },
      "text/html": [
       "<div>                            <div id=\"db9898bd-28da-4d3d-b808-e2ccb26edda5\" class=\"plotly-graph-div\" style=\"height:525px; width:100%;\"></div>            <script type=\"text/javascript\">                require([\"plotly\"], function(Plotly) {                    window.PLOTLYENV=window.PLOTLYENV || {};                                    if (document.getElementById(\"db9898bd-28da-4d3d-b808-e2ccb26edda5\")) {                    Plotly.newPlot(                        \"db9898bd-28da-4d3d-b808-e2ccb26edda5\",                        [{\"name\":\"accuracy\",\"x\":[1,2,3,4,5,6,7,8,9,10,11,12,13,14,15,16,17,18,19,20,21,22,23,24,25],\"y\":[0.6101666666666666,0.8829,0.9271333333333334,0.9547666666666667,0.9592666666666667,0.9635333333333334,0.9703666666666667,0.9733666666666667,0.9741333333333333,0.9752666666666666,0.9758,0.9755666666666667,0.9764,0.9771,0.9769666666666666,0.9772333333333333,0.9774333333333334,0.9783,0.9779666666666667,0.9774,0.9781666666666666,0.9782,0.9777666666666667,0.9777666666666667,0.9779333333333333],\"type\":\"scatter\"},{\"name\":\"F1\",\"x\":[1,2,3,4,5,6,7,8,9,10,11,12,13,14,15,16,17,18,19,20,21,22,23,24,25],\"y\":[0.2968660616995406,0.8417765438939755,0.9104674804341877,0.9460963380525742,0.9518568384377516,0.9572578353931438,0.9655484775185413,0.9691695916068234,0.9700686361942639,0.9713731824117361,0.9719195133685105,0.9717009654062081,0.9726054714432696,0.9733847014500947,0.9732109225420987,0.97351600605918,0.9737483187198804,0.9747220330882632,0.9743359264686426,0.9736923187238088,0.9746087414712791,0.9746490615021752,0.974137000781444,0.9741174611971765,0.9743089912804289],\"type\":\"scatter\"},{\"name\":\"Recall\",\"x\":[1,2,3,4,5,6,7,8,9,10,11,12,13,14,15,16,17,18,19,20,21,22,23,24,25],\"y\":[0.5220886069482784,0.9222195895796802,0.9403246812291502,0.9566221950339338,0.9597368494464042,0.9626640714470228,0.9691674086884207,0.9718876513494488,0.9727594871659143,0.9736722892111066,0.9746853293287002,0.9741199928546956,0.9752878970265199,0.9762971076489881,0.9760411456364554,0.9763156632626869,0.976417822148481,0.9775343453005748,0.9772665636702431,0.9764321780870547,0.9771247512479325,0.977097383193442,0.9765998064739785,0.9768885344315055,0.9774614779785747],\"type\":\"scatter\"},{\"name\":\"Precision\",\"x\":[1,2,3,4,5,6,7,8,9,10,11,12,13,14,15,16,17,18,19,20,21,22,23,24,25],\"y\":[0.35768491135093256,0.8085711257949484,0.8900141685304779,0.9378959709010886,0.9454911691889184,0.9527868539093506,0.9624950753995356,0.9668740805141162,0.9677869267562706,0.9693884291273637,0.9694860373928362,0.969596834089372,0.9702249463336244,0.9707783285401382,0.9706633361253031,0.9709815322021352,0.9713275150283526,0.9721430457833945,0.9716666975564037,0.9711957318805978,0.9723098900082344,0.972409097271862,0.9718843880095362,0.9715948648768921,0.9714543896544562],\"type\":\"scatter\"}],                        {\"template\":{\"data\":{\"bar\":[{\"error_x\":{\"color\":\"#2a3f5f\"},\"error_y\":{\"color\":\"#2a3f5f\"},\"marker\":{\"line\":{\"color\":\"#E5ECF6\",\"width\":0.5},\"pattern\":{\"fillmode\":\"overlay\",\"size\":10,\"solidity\":0.2}},\"type\":\"bar\"}],\"barpolar\":[{\"marker\":{\"line\":{\"color\":\"#E5ECF6\",\"width\":0.5},\"pattern\":{\"fillmode\":\"overlay\",\"size\":10,\"solidity\":0.2}},\"type\":\"barpolar\"}],\"carpet\":[{\"aaxis\":{\"endlinecolor\":\"#2a3f5f\",\"gridcolor\":\"white\",\"linecolor\":\"white\",\"minorgridcolor\":\"white\",\"startlinecolor\":\"#2a3f5f\"},\"baxis\":{\"endlinecolor\":\"#2a3f5f\",\"gridcolor\":\"white\",\"linecolor\":\"white\",\"minorgridcolor\":\"white\",\"startlinecolor\":\"#2a3f5f\"},\"type\":\"carpet\"}],\"choropleth\":[{\"colorbar\":{\"outlinewidth\":0,\"ticks\":\"\"},\"type\":\"choropleth\"}],\"contour\":[{\"colorbar\":{\"outlinewidth\":0,\"ticks\":\"\"},\"colorscale\":[[0.0,\"#0d0887\"],[0.1111111111111111,\"#46039f\"],[0.2222222222222222,\"#7201a8\"],[0.3333333333333333,\"#9c179e\"],[0.4444444444444444,\"#bd3786\"],[0.5555555555555556,\"#d8576b\"],[0.6666666666666666,\"#ed7953\"],[0.7777777777777778,\"#fb9f3a\"],[0.8888888888888888,\"#fdca26\"],[1.0,\"#f0f921\"]],\"type\":\"contour\"}],\"contourcarpet\":[{\"colorbar\":{\"outlinewidth\":0,\"ticks\":\"\"},\"type\":\"contourcarpet\"}],\"heatmap\":[{\"colorbar\":{\"outlinewidth\":0,\"ticks\":\"\"},\"colorscale\":[[0.0,\"#0d0887\"],[0.1111111111111111,\"#46039f\"],[0.2222222222222222,\"#7201a8\"],[0.3333333333333333,\"#9c179e\"],[0.4444444444444444,\"#bd3786\"],[0.5555555555555556,\"#d8576b\"],[0.6666666666666666,\"#ed7953\"],[0.7777777777777778,\"#fb9f3a\"],[0.8888888888888888,\"#fdca26\"],[1.0,\"#f0f921\"]],\"type\":\"heatmap\"}],\"heatmapgl\":[{\"colorbar\":{\"outlinewidth\":0,\"ticks\":\"\"},\"colorscale\":[[0.0,\"#0d0887\"],[0.1111111111111111,\"#46039f\"],[0.2222222222222222,\"#7201a8\"],[0.3333333333333333,\"#9c179e\"],[0.4444444444444444,\"#bd3786\"],[0.5555555555555556,\"#d8576b\"],[0.6666666666666666,\"#ed7953\"],[0.7777777777777778,\"#fb9f3a\"],[0.8888888888888888,\"#fdca26\"],[1.0,\"#f0f921\"]],\"type\":\"heatmapgl\"}],\"histogram\":[{\"marker\":{\"pattern\":{\"fillmode\":\"overlay\",\"size\":10,\"solidity\":0.2}},\"type\":\"histogram\"}],\"histogram2d\":[{\"colorbar\":{\"outlinewidth\":0,\"ticks\":\"\"},\"colorscale\":[[0.0,\"#0d0887\"],[0.1111111111111111,\"#46039f\"],[0.2222222222222222,\"#7201a8\"],[0.3333333333333333,\"#9c179e\"],[0.4444444444444444,\"#bd3786\"],[0.5555555555555556,\"#d8576b\"],[0.6666666666666666,\"#ed7953\"],[0.7777777777777778,\"#fb9f3a\"],[0.8888888888888888,\"#fdca26\"],[1.0,\"#f0f921\"]],\"type\":\"histogram2d\"}],\"histogram2dcontour\":[{\"colorbar\":{\"outlinewidth\":0,\"ticks\":\"\"},\"colorscale\":[[0.0,\"#0d0887\"],[0.1111111111111111,\"#46039f\"],[0.2222222222222222,\"#7201a8\"],[0.3333333333333333,\"#9c179e\"],[0.4444444444444444,\"#bd3786\"],[0.5555555555555556,\"#d8576b\"],[0.6666666666666666,\"#ed7953\"],[0.7777777777777778,\"#fb9f3a\"],[0.8888888888888888,\"#fdca26\"],[1.0,\"#f0f921\"]],\"type\":\"histogram2dcontour\"}],\"mesh3d\":[{\"colorbar\":{\"outlinewidth\":0,\"ticks\":\"\"},\"type\":\"mesh3d\"}],\"parcoords\":[{\"line\":{\"colorbar\":{\"outlinewidth\":0,\"ticks\":\"\"}},\"type\":\"parcoords\"}],\"pie\":[{\"automargin\":true,\"type\":\"pie\"}],\"scatter\":[{\"marker\":{\"colorbar\":{\"outlinewidth\":0,\"ticks\":\"\"}},\"type\":\"scatter\"}],\"scatter3d\":[{\"line\":{\"colorbar\":{\"outlinewidth\":0,\"ticks\":\"\"}},\"marker\":{\"colorbar\":{\"outlinewidth\":0,\"ticks\":\"\"}},\"type\":\"scatter3d\"}],\"scattercarpet\":[{\"marker\":{\"colorbar\":{\"outlinewidth\":0,\"ticks\":\"\"}},\"type\":\"scattercarpet\"}],\"scattergeo\":[{\"marker\":{\"colorbar\":{\"outlinewidth\":0,\"ticks\":\"\"}},\"type\":\"scattergeo\"}],\"scattergl\":[{\"marker\":{\"colorbar\":{\"outlinewidth\":0,\"ticks\":\"\"}},\"type\":\"scattergl\"}],\"scattermapbox\":[{\"marker\":{\"colorbar\":{\"outlinewidth\":0,\"ticks\":\"\"}},\"type\":\"scattermapbox\"}],\"scatterpolar\":[{\"marker\":{\"colorbar\":{\"outlinewidth\":0,\"ticks\":\"\"}},\"type\":\"scatterpolar\"}],\"scatterpolargl\":[{\"marker\":{\"colorbar\":{\"outlinewidth\":0,\"ticks\":\"\"}},\"type\":\"scatterpolargl\"}],\"scatterternary\":[{\"marker\":{\"colorbar\":{\"outlinewidth\":0,\"ticks\":\"\"}},\"type\":\"scatterternary\"}],\"surface\":[{\"colorbar\":{\"outlinewidth\":0,\"ticks\":\"\"},\"colorscale\":[[0.0,\"#0d0887\"],[0.1111111111111111,\"#46039f\"],[0.2222222222222222,\"#7201a8\"],[0.3333333333333333,\"#9c179e\"],[0.4444444444444444,\"#bd3786\"],[0.5555555555555556,\"#d8576b\"],[0.6666666666666666,\"#ed7953\"],[0.7777777777777778,\"#fb9f3a\"],[0.8888888888888888,\"#fdca26\"],[1.0,\"#f0f921\"]],\"type\":\"surface\"}],\"table\":[{\"cells\":{\"fill\":{\"color\":\"#EBF0F8\"},\"line\":{\"color\":\"white\"}},\"header\":{\"fill\":{\"color\":\"#C8D4E3\"},\"line\":{\"color\":\"white\"}},\"type\":\"table\"}]},\"layout\":{\"annotationdefaults\":{\"arrowcolor\":\"#2a3f5f\",\"arrowhead\":0,\"arrowwidth\":1},\"autotypenumbers\":\"strict\",\"coloraxis\":{\"colorbar\":{\"outlinewidth\":0,\"ticks\":\"\"}},\"colorscale\":{\"diverging\":[[0,\"#8e0152\"],[0.1,\"#c51b7d\"],[0.2,\"#de77ae\"],[0.3,\"#f1b6da\"],[0.4,\"#fde0ef\"],[0.5,\"#f7f7f7\"],[0.6,\"#e6f5d0\"],[0.7,\"#b8e186\"],[0.8,\"#7fbc41\"],[0.9,\"#4d9221\"],[1,\"#276419\"]],\"sequential\":[[0.0,\"#0d0887\"],[0.1111111111111111,\"#46039f\"],[0.2222222222222222,\"#7201a8\"],[0.3333333333333333,\"#9c179e\"],[0.4444444444444444,\"#bd3786\"],[0.5555555555555556,\"#d8576b\"],[0.6666666666666666,\"#ed7953\"],[0.7777777777777778,\"#fb9f3a\"],[0.8888888888888888,\"#fdca26\"],[1.0,\"#f0f921\"]],\"sequentialminus\":[[0.0,\"#0d0887\"],[0.1111111111111111,\"#46039f\"],[0.2222222222222222,\"#7201a8\"],[0.3333333333333333,\"#9c179e\"],[0.4444444444444444,\"#bd3786\"],[0.5555555555555556,\"#d8576b\"],[0.6666666666666666,\"#ed7953\"],[0.7777777777777778,\"#fb9f3a\"],[0.8888888888888888,\"#fdca26\"],[1.0,\"#f0f921\"]]},\"colorway\":[\"#636efa\",\"#EF553B\",\"#00cc96\",\"#ab63fa\",\"#FFA15A\",\"#19d3f3\",\"#FF6692\",\"#B6E880\",\"#FF97FF\",\"#FECB52\"],\"font\":{\"color\":\"#2a3f5f\"},\"geo\":{\"bgcolor\":\"white\",\"lakecolor\":\"white\",\"landcolor\":\"#E5ECF6\",\"showlakes\":true,\"showland\":true,\"subunitcolor\":\"white\"},\"hoverlabel\":{\"align\":\"left\"},\"hovermode\":\"closest\",\"mapbox\":{\"style\":\"light\"},\"paper_bgcolor\":\"white\",\"plot_bgcolor\":\"#E5ECF6\",\"polar\":{\"angularaxis\":{\"gridcolor\":\"white\",\"linecolor\":\"white\",\"ticks\":\"\"},\"bgcolor\":\"#E5ECF6\",\"radialaxis\":{\"gridcolor\":\"white\",\"linecolor\":\"white\",\"ticks\":\"\"}},\"scene\":{\"xaxis\":{\"backgroundcolor\":\"#E5ECF6\",\"gridcolor\":\"white\",\"gridwidth\":2,\"linecolor\":\"white\",\"showbackground\":true,\"ticks\":\"\",\"zerolinecolor\":\"white\"},\"yaxis\":{\"backgroundcolor\":\"#E5ECF6\",\"gridcolor\":\"white\",\"gridwidth\":2,\"linecolor\":\"white\",\"showbackground\":true,\"ticks\":\"\",\"zerolinecolor\":\"white\"},\"zaxis\":{\"backgroundcolor\":\"#E5ECF6\",\"gridcolor\":\"white\",\"gridwidth\":2,\"linecolor\":\"white\",\"showbackground\":true,\"ticks\":\"\",\"zerolinecolor\":\"white\"}},\"shapedefaults\":{\"line\":{\"color\":\"#2a3f5f\"}},\"ternary\":{\"aaxis\":{\"gridcolor\":\"white\",\"linecolor\":\"white\",\"ticks\":\"\"},\"baxis\":{\"gridcolor\":\"white\",\"linecolor\":\"white\",\"ticks\":\"\"},\"bgcolor\":\"#E5ECF6\",\"caxis\":{\"gridcolor\":\"white\",\"linecolor\":\"white\",\"ticks\":\"\"}},\"title\":{\"x\":0.05},\"xaxis\":{\"automargin\":true,\"gridcolor\":\"white\",\"linecolor\":\"white\",\"ticks\":\"\",\"title\":{\"standoff\":15},\"zerolinecolor\":\"white\",\"zerolinewidth\":2},\"yaxis\":{\"automargin\":true,\"gridcolor\":\"white\",\"linecolor\":\"white\",\"ticks\":\"\",\"title\":{\"standoff\":15},\"zerolinecolor\":\"white\",\"zerolinewidth\":2}}}},                        {\"responsive\": true}                    ).then(function(){\n",
       "                            \n",
       "var gd = document.getElementById('db9898bd-28da-4d3d-b808-e2ccb26edda5');\n",
       "var x = new MutationObserver(function (mutations, observer) {{\n",
       "        var display = window.getComputedStyle(gd).display;\n",
       "        if (!display || display === 'none') {{\n",
       "            console.log([gd, 'removed!']);\n",
       "            Plotly.purge(gd);\n",
       "            observer.disconnect();\n",
       "        }}\n",
       "}});\n",
       "\n",
       "// Listen for the removal of the full notebook cells\n",
       "var notebookContainer = gd.closest('#notebook-container');\n",
       "if (notebookContainer) {{\n",
       "    x.observe(notebookContainer, {childList: true});\n",
       "}}\n",
       "\n",
       "// Listen for the clearing of the current output cell\n",
       "var outputEl = gd.closest('.output');\n",
       "if (outputEl) {{\n",
       "    x.observe(outputEl, {childList: true});\n",
       "}}\n",
       "\n",
       "                        })                };                });            </script>        </div>"
      ]
     },
     "metadata": {},
     "output_type": "display_data"
    }
   ],
   "source": [
    "acc_lst = [x[0] for x in star_mets]\n",
    "f1_lst = [x[1] for x in star_mets]\n",
    "prec_lst = [x[2] for x in star_mets]\n",
    "recall_lst = [x[3] for x in star_mets]\n",
    "\n",
    "\n",
    "\n",
    "fig = go.Figure()\n",
    "fig.add_trace(go.Scatter(x=depths, y=acc_lst, name=\"accuracy\"))\n",
    "fig.add_trace(go.Scatter(x=depths, y=f1_lst, name=\"F1\"))\n",
    "fig.add_trace(go.Scatter(x=depths, y=recall_lst, name=\"Recall\"))\n",
    "fig.add_trace(go.Scatter(x=depths, y=prec_lst, name=\"Precision\"))\n",
    "fig.write_image(\"images/fig_stars_depth.pdf\")\n",
    "fig.show()"
   ]
  },
  {
   "cell_type": "markdown",
   "id": "7f9ef160",
   "metadata": {},
   "source": [
    "### heart"
   ]
  },
  {
   "cell_type": "code",
   "execution_count": 25,
   "id": "e0aa7ff4",
   "metadata": {},
   "outputs": [
    {
     "name": "stdout",
     "output_type": "stream",
     "text": [
      "Metrics for depth: 1:\n",
      "Accuracy 0.8555555555555555\n",
      "F1 Score 0.8533650833437775\n",
      "Recall 0.8518060366155369\n",
      "Precision 0.8657407407407407\n",
      "\n",
      "Metrics for depth: 2:\n",
      "Accuracy 0.8555555555555555\n",
      "F1 Score 0.8540965207631874\n",
      "Recall 0.8527956457199406\n",
      "Precision 0.86082995951417\n",
      "\n",
      "Metrics for depth: 3:\n",
      "Accuracy 0.8555555555555555\n",
      "F1 Score 0.8546764377096012\n",
      "Recall 0.8537852548243443\n",
      "Precision 0.8574999999999999\n",
      "\n",
      "Metrics for depth: 4:\n",
      "Accuracy 0.8333333333333334\n",
      "F1 Score 0.8323189665880015\n",
      "Recall 0.8315190499752598\n",
      "Precision 0.835\n",
      "\n",
      "Metrics for depth: 5:\n",
      "Accuracy 0.8\n",
      "F1 Score 0.7996041563582384\n",
      "Recall 0.7996041563582384\n",
      "Precision 0.7996041563582384\n",
      "\n",
      "Metrics for depth: 6:\n",
      "Accuracy 0.8444444444444444\n",
      "F1 Score 0.8441365660564077\n",
      "Recall 0.8441365660564077\n",
      "Precision 0.8441365660564077\n",
      "\n",
      "Metrics for depth: 7:\n",
      "Accuracy 0.8333333333333334\n",
      "F1 Score 0.8331479421579533\n",
      "Recall 0.8334982681840672\n",
      "Precision 0.8330039525691699\n",
      "\n",
      "Metrics for depth: 8:\n",
      "Accuracy 0.8111111111111111\n",
      "F1 Score 0.810901001112347\n",
      "Recall 0.8112320633349827\n",
      "Precision 0.8107707509881423\n",
      "\n",
      "Metrics for depth: 9:\n",
      "Accuracy 0.8111111111111111\n",
      "F1 Score 0.8110877886158785\n",
      "Recall 0.8132112815437902\n",
      "Precision 0.8139880952380952\n",
      "\n",
      "Metrics for depth: 10:\n",
      "Accuracy 0.8111111111111111\n",
      "F1 Score 0.810901001112347\n",
      "Recall 0.8112320633349827\n",
      "Precision 0.8107707509881423\n",
      "\n",
      "Metrics for depth: 11:\n",
      "Accuracy 0.8111111111111111\n",
      "F1 Score 0.8105263157894738\n",
      "Recall 0.8102424542305788\n",
      "Precision 0.8110119047619048\n",
      "\n",
      "Metrics for depth: 12:\n",
      "Accuracy 0.8333333333333334\n",
      "F1 Score 0.8328173374613003\n",
      "Recall 0.8325086590796635\n",
      "Precision 0.8333333333333334\n",
      "\n",
      "Metrics for depth: 13:\n",
      "Accuracy 0.8222222222222222\n",
      "F1 Score 0.8218703612073232\n",
      "Recall 0.821870361207323\n",
      "Precision 0.821870361207323\n",
      "\n",
      "Metrics for depth: 14:\n",
      "Accuracy 0.8111111111111111\n",
      "F1 Score 0.8099614954664016\n",
      "Recall 0.8092528451261751\n",
      "Precision 0.8125\n",
      "\n",
      "Metrics for depth: 15:\n",
      "Accuracy 0.8555555555555555\n",
      "F1 Score 0.8546764377096012\n",
      "Recall 0.8537852548243443\n",
      "Precision 0.8574999999999999\n",
      "\n",
      "Metrics for depth: 16:\n",
      "Accuracy 0.8\n",
      "F1 Score 0.799901185770751\n",
      "Recall 0.8005937654626423\n",
      "Precision 0.8\n",
      "\n",
      "Metrics for depth: 17:\n",
      "Accuracy 0.8111111111111111\n",
      "F1 Score 0.810901001112347\n",
      "Recall 0.8112320633349827\n",
      "Precision 0.8107707509881423\n",
      "\n",
      "Metrics for depth: 18:\n",
      "Accuracy 0.8\n",
      "F1 Score 0.7996041563582384\n",
      "Recall 0.7996041563582384\n",
      "Precision 0.7996041563582384\n",
      "\n",
      "Metrics for depth: 19:\n",
      "Accuracy 0.8222222222222222\n",
      "F1 Score 0.8218703612073232\n",
      "Recall 0.821870361207323\n",
      "Precision 0.821870361207323\n",
      "\n",
      "Metrics for depth: 20:\n",
      "Accuracy 0.8222222222222222\n",
      "F1 Score 0.8214285714285714\n",
      "Recall 0.8208807521029193\n",
      "Precision 0.8227974116475858\n",
      "\n",
      "Metrics for depth: 21:\n",
      "Accuracy 0.8111111111111111\n",
      "F1 Score 0.8092031425364759\n",
      "Recall 0.8082632360217714\n",
      "Precision 0.8152834008097165\n",
      "\n",
      "Metrics for depth: 22:\n",
      "Accuracy 0.8222222222222222\n",
      "F1 Score 0.8214285714285714\n",
      "Recall 0.8208807521029193\n",
      "Precision 0.8227974116475858\n",
      "\n",
      "Metrics for depth: 23:\n",
      "Accuracy 0.7888888888888889\n",
      "F1 Score 0.788235294117647\n",
      "Recall 0.7879762493814944\n",
      "Precision 0.7886904761904762\n",
      "\n",
      "Metrics for depth: 24:\n",
      "Accuracy 0.8333333333333334\n",
      "F1 Score 0.8328173374613003\n",
      "Recall 0.8325086590796635\n",
      "Precision 0.8333333333333334\n",
      "\n",
      "Metrics for depth: 25:\n",
      "Accuracy 0.8111111111111111\n",
      "F1 Score 0.810901001112347\n",
      "Recall 0.8112320633349827\n",
      "Precision 0.8107707509881423\n",
      "\n"
     ]
    }
   ],
   "source": [
    "heart_mets = []\n",
    "for depth in depths:\n",
    "    print(f\"Metrics for depth: {depth}:\")\n",
    "    classifier = RandomForestClassifier(max_depth=depth)\n",
    "\n",
    "    classifier.fit(heart_x_train, heart_y_train)\n",
    "    predictions = classifier.predict(heart_x_test)\n",
    "    \n",
    "    acc = accuracy_score(heart_y_test, predictions)\n",
    "    f1 = f1_score(heart_y_test, predictions, average='macro')\n",
    "    recall = recall_score(heart_y_test, predictions, average='macro')\n",
    "    prec = precision_score(heart_y_test, predictions, average='macro')\n",
    "\n",
    "    print(f\"Accuracy {acc}\")\n",
    "    print(f\"F1 Score {f1}\")\n",
    "    print(f\"Recall {recall}\")\n",
    "    print(f\"Precision {prec}\\n\")\n",
    "    \n",
    "    heart_mets.append((acc, f1, recall, prec))"
   ]
  },
  {
   "cell_type": "code",
   "execution_count": 26,
   "id": "770be7e1",
   "metadata": {
    "scrolled": false
   },
   "outputs": [
    {
     "data": {
      "application/vnd.plotly.v1+json": {
       "config": {
        "plotlyServerURL": "https://plot.ly"
       },
       "data": [
        {
         "name": "accuracy",
         "type": "scatter",
         "x": [
          1,
          2,
          3,
          4,
          5,
          6,
          7,
          8,
          9,
          10,
          11,
          12,
          13,
          14,
          15,
          16,
          17,
          18,
          19,
          20,
          21,
          22,
          23,
          24,
          25
         ],
         "y": [
          0.8555555555555555,
          0.8555555555555555,
          0.8555555555555555,
          0.8333333333333334,
          0.8,
          0.8444444444444444,
          0.8333333333333334,
          0.8111111111111111,
          0.8111111111111111,
          0.8111111111111111,
          0.8111111111111111,
          0.8333333333333334,
          0.8222222222222222,
          0.8111111111111111,
          0.8555555555555555,
          0.8,
          0.8111111111111111,
          0.8,
          0.8222222222222222,
          0.8222222222222222,
          0.8111111111111111,
          0.8222222222222222,
          0.7888888888888889,
          0.8333333333333334,
          0.8111111111111111
         ]
        },
        {
         "name": "F1",
         "type": "scatter",
         "x": [
          1,
          2,
          3,
          4,
          5,
          6,
          7,
          8,
          9,
          10,
          11,
          12,
          13,
          14,
          15,
          16,
          17,
          18,
          19,
          20,
          21,
          22,
          23,
          24,
          25
         ],
         "y": [
          0.8533650833437775,
          0.8540965207631874,
          0.8546764377096012,
          0.8323189665880015,
          0.7996041563582384,
          0.8441365660564077,
          0.8331479421579533,
          0.810901001112347,
          0.8110877886158785,
          0.810901001112347,
          0.8105263157894738,
          0.8328173374613003,
          0.8218703612073232,
          0.8099614954664016,
          0.8546764377096012,
          0.799901185770751,
          0.810901001112347,
          0.7996041563582384,
          0.8218703612073232,
          0.8214285714285714,
          0.8092031425364759,
          0.8214285714285714,
          0.788235294117647,
          0.8328173374613003,
          0.810901001112347
         ]
        },
        {
         "name": "Recall",
         "type": "scatter",
         "x": [
          1,
          2,
          3,
          4,
          5,
          6,
          7,
          8,
          9,
          10,
          11,
          12,
          13,
          14,
          15,
          16,
          17,
          18,
          19,
          20,
          21,
          22,
          23,
          24,
          25
         ],
         "y": [
          0.8657407407407407,
          0.86082995951417,
          0.8574999999999999,
          0.835,
          0.7996041563582384,
          0.8441365660564077,
          0.8330039525691699,
          0.8107707509881423,
          0.8139880952380952,
          0.8107707509881423,
          0.8110119047619048,
          0.8333333333333334,
          0.821870361207323,
          0.8125,
          0.8574999999999999,
          0.8,
          0.8107707509881423,
          0.7996041563582384,
          0.821870361207323,
          0.8227974116475858,
          0.8152834008097165,
          0.8227974116475858,
          0.7886904761904762,
          0.8333333333333334,
          0.8107707509881423
         ]
        },
        {
         "name": "Precision",
         "type": "scatter",
         "x": [
          1,
          2,
          3,
          4,
          5,
          6,
          7,
          8,
          9,
          10,
          11,
          12,
          13,
          14,
          15,
          16,
          17,
          18,
          19,
          20,
          21,
          22,
          23,
          24,
          25
         ],
         "y": [
          0.8518060366155369,
          0.8527956457199406,
          0.8537852548243443,
          0.8315190499752598,
          0.7996041563582384,
          0.8441365660564077,
          0.8334982681840672,
          0.8112320633349827,
          0.8132112815437902,
          0.8112320633349827,
          0.8102424542305788,
          0.8325086590796635,
          0.821870361207323,
          0.8092528451261751,
          0.8537852548243443,
          0.8005937654626423,
          0.8112320633349827,
          0.7996041563582384,
          0.821870361207323,
          0.8208807521029193,
          0.8082632360217714,
          0.8208807521029193,
          0.7879762493814944,
          0.8325086590796635,
          0.8112320633349827
         ]
        }
       ],
       "layout": {
        "template": {
         "data": {
          "bar": [
           {
            "error_x": {
             "color": "#2a3f5f"
            },
            "error_y": {
             "color": "#2a3f5f"
            },
            "marker": {
             "line": {
              "color": "#E5ECF6",
              "width": 0.5
             },
             "pattern": {
              "fillmode": "overlay",
              "size": 10,
              "solidity": 0.2
             }
            },
            "type": "bar"
           }
          ],
          "barpolar": [
           {
            "marker": {
             "line": {
              "color": "#E5ECF6",
              "width": 0.5
             },
             "pattern": {
              "fillmode": "overlay",
              "size": 10,
              "solidity": 0.2
             }
            },
            "type": "barpolar"
           }
          ],
          "carpet": [
           {
            "aaxis": {
             "endlinecolor": "#2a3f5f",
             "gridcolor": "white",
             "linecolor": "white",
             "minorgridcolor": "white",
             "startlinecolor": "#2a3f5f"
            },
            "baxis": {
             "endlinecolor": "#2a3f5f",
             "gridcolor": "white",
             "linecolor": "white",
             "minorgridcolor": "white",
             "startlinecolor": "#2a3f5f"
            },
            "type": "carpet"
           }
          ],
          "choropleth": [
           {
            "colorbar": {
             "outlinewidth": 0,
             "ticks": ""
            },
            "type": "choropleth"
           }
          ],
          "contour": [
           {
            "colorbar": {
             "outlinewidth": 0,
             "ticks": ""
            },
            "colorscale": [
             [
              0,
              "#0d0887"
             ],
             [
              0.1111111111111111,
              "#46039f"
             ],
             [
              0.2222222222222222,
              "#7201a8"
             ],
             [
              0.3333333333333333,
              "#9c179e"
             ],
             [
              0.4444444444444444,
              "#bd3786"
             ],
             [
              0.5555555555555556,
              "#d8576b"
             ],
             [
              0.6666666666666666,
              "#ed7953"
             ],
             [
              0.7777777777777778,
              "#fb9f3a"
             ],
             [
              0.8888888888888888,
              "#fdca26"
             ],
             [
              1,
              "#f0f921"
             ]
            ],
            "type": "contour"
           }
          ],
          "contourcarpet": [
           {
            "colorbar": {
             "outlinewidth": 0,
             "ticks": ""
            },
            "type": "contourcarpet"
           }
          ],
          "heatmap": [
           {
            "colorbar": {
             "outlinewidth": 0,
             "ticks": ""
            },
            "colorscale": [
             [
              0,
              "#0d0887"
             ],
             [
              0.1111111111111111,
              "#46039f"
             ],
             [
              0.2222222222222222,
              "#7201a8"
             ],
             [
              0.3333333333333333,
              "#9c179e"
             ],
             [
              0.4444444444444444,
              "#bd3786"
             ],
             [
              0.5555555555555556,
              "#d8576b"
             ],
             [
              0.6666666666666666,
              "#ed7953"
             ],
             [
              0.7777777777777778,
              "#fb9f3a"
             ],
             [
              0.8888888888888888,
              "#fdca26"
             ],
             [
              1,
              "#f0f921"
             ]
            ],
            "type": "heatmap"
           }
          ],
          "heatmapgl": [
           {
            "colorbar": {
             "outlinewidth": 0,
             "ticks": ""
            },
            "colorscale": [
             [
              0,
              "#0d0887"
             ],
             [
              0.1111111111111111,
              "#46039f"
             ],
             [
              0.2222222222222222,
              "#7201a8"
             ],
             [
              0.3333333333333333,
              "#9c179e"
             ],
             [
              0.4444444444444444,
              "#bd3786"
             ],
             [
              0.5555555555555556,
              "#d8576b"
             ],
             [
              0.6666666666666666,
              "#ed7953"
             ],
             [
              0.7777777777777778,
              "#fb9f3a"
             ],
             [
              0.8888888888888888,
              "#fdca26"
             ],
             [
              1,
              "#f0f921"
             ]
            ],
            "type": "heatmapgl"
           }
          ],
          "histogram": [
           {
            "marker": {
             "pattern": {
              "fillmode": "overlay",
              "size": 10,
              "solidity": 0.2
             }
            },
            "type": "histogram"
           }
          ],
          "histogram2d": [
           {
            "colorbar": {
             "outlinewidth": 0,
             "ticks": ""
            },
            "colorscale": [
             [
              0,
              "#0d0887"
             ],
             [
              0.1111111111111111,
              "#46039f"
             ],
             [
              0.2222222222222222,
              "#7201a8"
             ],
             [
              0.3333333333333333,
              "#9c179e"
             ],
             [
              0.4444444444444444,
              "#bd3786"
             ],
             [
              0.5555555555555556,
              "#d8576b"
             ],
             [
              0.6666666666666666,
              "#ed7953"
             ],
             [
              0.7777777777777778,
              "#fb9f3a"
             ],
             [
              0.8888888888888888,
              "#fdca26"
             ],
             [
              1,
              "#f0f921"
             ]
            ],
            "type": "histogram2d"
           }
          ],
          "histogram2dcontour": [
           {
            "colorbar": {
             "outlinewidth": 0,
             "ticks": ""
            },
            "colorscale": [
             [
              0,
              "#0d0887"
             ],
             [
              0.1111111111111111,
              "#46039f"
             ],
             [
              0.2222222222222222,
              "#7201a8"
             ],
             [
              0.3333333333333333,
              "#9c179e"
             ],
             [
              0.4444444444444444,
              "#bd3786"
             ],
             [
              0.5555555555555556,
              "#d8576b"
             ],
             [
              0.6666666666666666,
              "#ed7953"
             ],
             [
              0.7777777777777778,
              "#fb9f3a"
             ],
             [
              0.8888888888888888,
              "#fdca26"
             ],
             [
              1,
              "#f0f921"
             ]
            ],
            "type": "histogram2dcontour"
           }
          ],
          "mesh3d": [
           {
            "colorbar": {
             "outlinewidth": 0,
             "ticks": ""
            },
            "type": "mesh3d"
           }
          ],
          "parcoords": [
           {
            "line": {
             "colorbar": {
              "outlinewidth": 0,
              "ticks": ""
             }
            },
            "type": "parcoords"
           }
          ],
          "pie": [
           {
            "automargin": true,
            "type": "pie"
           }
          ],
          "scatter": [
           {
            "marker": {
             "colorbar": {
              "outlinewidth": 0,
              "ticks": ""
             }
            },
            "type": "scatter"
           }
          ],
          "scatter3d": [
           {
            "line": {
             "colorbar": {
              "outlinewidth": 0,
              "ticks": ""
             }
            },
            "marker": {
             "colorbar": {
              "outlinewidth": 0,
              "ticks": ""
             }
            },
            "type": "scatter3d"
           }
          ],
          "scattercarpet": [
           {
            "marker": {
             "colorbar": {
              "outlinewidth": 0,
              "ticks": ""
             }
            },
            "type": "scattercarpet"
           }
          ],
          "scattergeo": [
           {
            "marker": {
             "colorbar": {
              "outlinewidth": 0,
              "ticks": ""
             }
            },
            "type": "scattergeo"
           }
          ],
          "scattergl": [
           {
            "marker": {
             "colorbar": {
              "outlinewidth": 0,
              "ticks": ""
             }
            },
            "type": "scattergl"
           }
          ],
          "scattermapbox": [
           {
            "marker": {
             "colorbar": {
              "outlinewidth": 0,
              "ticks": ""
             }
            },
            "type": "scattermapbox"
           }
          ],
          "scatterpolar": [
           {
            "marker": {
             "colorbar": {
              "outlinewidth": 0,
              "ticks": ""
             }
            },
            "type": "scatterpolar"
           }
          ],
          "scatterpolargl": [
           {
            "marker": {
             "colorbar": {
              "outlinewidth": 0,
              "ticks": ""
             }
            },
            "type": "scatterpolargl"
           }
          ],
          "scatterternary": [
           {
            "marker": {
             "colorbar": {
              "outlinewidth": 0,
              "ticks": ""
             }
            },
            "type": "scatterternary"
           }
          ],
          "surface": [
           {
            "colorbar": {
             "outlinewidth": 0,
             "ticks": ""
            },
            "colorscale": [
             [
              0,
              "#0d0887"
             ],
             [
              0.1111111111111111,
              "#46039f"
             ],
             [
              0.2222222222222222,
              "#7201a8"
             ],
             [
              0.3333333333333333,
              "#9c179e"
             ],
             [
              0.4444444444444444,
              "#bd3786"
             ],
             [
              0.5555555555555556,
              "#d8576b"
             ],
             [
              0.6666666666666666,
              "#ed7953"
             ],
             [
              0.7777777777777778,
              "#fb9f3a"
             ],
             [
              0.8888888888888888,
              "#fdca26"
             ],
             [
              1,
              "#f0f921"
             ]
            ],
            "type": "surface"
           }
          ],
          "table": [
           {
            "cells": {
             "fill": {
              "color": "#EBF0F8"
             },
             "line": {
              "color": "white"
             }
            },
            "header": {
             "fill": {
              "color": "#C8D4E3"
             },
             "line": {
              "color": "white"
             }
            },
            "type": "table"
           }
          ]
         },
         "layout": {
          "annotationdefaults": {
           "arrowcolor": "#2a3f5f",
           "arrowhead": 0,
           "arrowwidth": 1
          },
          "autotypenumbers": "strict",
          "coloraxis": {
           "colorbar": {
            "outlinewidth": 0,
            "ticks": ""
           }
          },
          "colorscale": {
           "diverging": [
            [
             0,
             "#8e0152"
            ],
            [
             0.1,
             "#c51b7d"
            ],
            [
             0.2,
             "#de77ae"
            ],
            [
             0.3,
             "#f1b6da"
            ],
            [
             0.4,
             "#fde0ef"
            ],
            [
             0.5,
             "#f7f7f7"
            ],
            [
             0.6,
             "#e6f5d0"
            ],
            [
             0.7,
             "#b8e186"
            ],
            [
             0.8,
             "#7fbc41"
            ],
            [
             0.9,
             "#4d9221"
            ],
            [
             1,
             "#276419"
            ]
           ],
           "sequential": [
            [
             0,
             "#0d0887"
            ],
            [
             0.1111111111111111,
             "#46039f"
            ],
            [
             0.2222222222222222,
             "#7201a8"
            ],
            [
             0.3333333333333333,
             "#9c179e"
            ],
            [
             0.4444444444444444,
             "#bd3786"
            ],
            [
             0.5555555555555556,
             "#d8576b"
            ],
            [
             0.6666666666666666,
             "#ed7953"
            ],
            [
             0.7777777777777778,
             "#fb9f3a"
            ],
            [
             0.8888888888888888,
             "#fdca26"
            ],
            [
             1,
             "#f0f921"
            ]
           ],
           "sequentialminus": [
            [
             0,
             "#0d0887"
            ],
            [
             0.1111111111111111,
             "#46039f"
            ],
            [
             0.2222222222222222,
             "#7201a8"
            ],
            [
             0.3333333333333333,
             "#9c179e"
            ],
            [
             0.4444444444444444,
             "#bd3786"
            ],
            [
             0.5555555555555556,
             "#d8576b"
            ],
            [
             0.6666666666666666,
             "#ed7953"
            ],
            [
             0.7777777777777778,
             "#fb9f3a"
            ],
            [
             0.8888888888888888,
             "#fdca26"
            ],
            [
             1,
             "#f0f921"
            ]
           ]
          },
          "colorway": [
           "#636efa",
           "#EF553B",
           "#00cc96",
           "#ab63fa",
           "#FFA15A",
           "#19d3f3",
           "#FF6692",
           "#B6E880",
           "#FF97FF",
           "#FECB52"
          ],
          "font": {
           "color": "#2a3f5f"
          },
          "geo": {
           "bgcolor": "white",
           "lakecolor": "white",
           "landcolor": "#E5ECF6",
           "showlakes": true,
           "showland": true,
           "subunitcolor": "white"
          },
          "hoverlabel": {
           "align": "left"
          },
          "hovermode": "closest",
          "mapbox": {
           "style": "light"
          },
          "paper_bgcolor": "white",
          "plot_bgcolor": "#E5ECF6",
          "polar": {
           "angularaxis": {
            "gridcolor": "white",
            "linecolor": "white",
            "ticks": ""
           },
           "bgcolor": "#E5ECF6",
           "radialaxis": {
            "gridcolor": "white",
            "linecolor": "white",
            "ticks": ""
           }
          },
          "scene": {
           "xaxis": {
            "backgroundcolor": "#E5ECF6",
            "gridcolor": "white",
            "gridwidth": 2,
            "linecolor": "white",
            "showbackground": true,
            "ticks": "",
            "zerolinecolor": "white"
           },
           "yaxis": {
            "backgroundcolor": "#E5ECF6",
            "gridcolor": "white",
            "gridwidth": 2,
            "linecolor": "white",
            "showbackground": true,
            "ticks": "",
            "zerolinecolor": "white"
           },
           "zaxis": {
            "backgroundcolor": "#E5ECF6",
            "gridcolor": "white",
            "gridwidth": 2,
            "linecolor": "white",
            "showbackground": true,
            "ticks": "",
            "zerolinecolor": "white"
           }
          },
          "shapedefaults": {
           "line": {
            "color": "#2a3f5f"
           }
          },
          "ternary": {
           "aaxis": {
            "gridcolor": "white",
            "linecolor": "white",
            "ticks": ""
           },
           "baxis": {
            "gridcolor": "white",
            "linecolor": "white",
            "ticks": ""
           },
           "bgcolor": "#E5ECF6",
           "caxis": {
            "gridcolor": "white",
            "linecolor": "white",
            "ticks": ""
           }
          },
          "title": {
           "x": 0.05
          },
          "xaxis": {
           "automargin": true,
           "gridcolor": "white",
           "linecolor": "white",
           "ticks": "",
           "title": {
            "standoff": 15
           },
           "zerolinecolor": "white",
           "zerolinewidth": 2
          },
          "yaxis": {
           "automargin": true,
           "gridcolor": "white",
           "linecolor": "white",
           "ticks": "",
           "title": {
            "standoff": 15
           },
           "zerolinecolor": "white",
           "zerolinewidth": 2
          }
         }
        }
       }
      },
      "text/html": [
       "<div>                            <div id=\"ad1ab7d9-0fa3-4866-89c7-abb4037d86c2\" class=\"plotly-graph-div\" style=\"height:525px; width:100%;\"></div>            <script type=\"text/javascript\">                require([\"plotly\"], function(Plotly) {                    window.PLOTLYENV=window.PLOTLYENV || {};                                    if (document.getElementById(\"ad1ab7d9-0fa3-4866-89c7-abb4037d86c2\")) {                    Plotly.newPlot(                        \"ad1ab7d9-0fa3-4866-89c7-abb4037d86c2\",                        [{\"name\":\"accuracy\",\"x\":[1,2,3,4,5,6,7,8,9,10,11,12,13,14,15,16,17,18,19,20,21,22,23,24,25],\"y\":[0.8555555555555555,0.8555555555555555,0.8555555555555555,0.8333333333333334,0.8,0.8444444444444444,0.8333333333333334,0.8111111111111111,0.8111111111111111,0.8111111111111111,0.8111111111111111,0.8333333333333334,0.8222222222222222,0.8111111111111111,0.8555555555555555,0.8,0.8111111111111111,0.8,0.8222222222222222,0.8222222222222222,0.8111111111111111,0.8222222222222222,0.7888888888888889,0.8333333333333334,0.8111111111111111],\"type\":\"scatter\"},{\"name\":\"F1\",\"x\":[1,2,3,4,5,6,7,8,9,10,11,12,13,14,15,16,17,18,19,20,21,22,23,24,25],\"y\":[0.8533650833437775,0.8540965207631874,0.8546764377096012,0.8323189665880015,0.7996041563582384,0.8441365660564077,0.8331479421579533,0.810901001112347,0.8110877886158785,0.810901001112347,0.8105263157894738,0.8328173374613003,0.8218703612073232,0.8099614954664016,0.8546764377096012,0.799901185770751,0.810901001112347,0.7996041563582384,0.8218703612073232,0.8214285714285714,0.8092031425364759,0.8214285714285714,0.788235294117647,0.8328173374613003,0.810901001112347],\"type\":\"scatter\"},{\"name\":\"Recall\",\"x\":[1,2,3,4,5,6,7,8,9,10,11,12,13,14,15,16,17,18,19,20,21,22,23,24,25],\"y\":[0.8657407407407407,0.86082995951417,0.8574999999999999,0.835,0.7996041563582384,0.8441365660564077,0.8330039525691699,0.8107707509881423,0.8139880952380952,0.8107707509881423,0.8110119047619048,0.8333333333333334,0.821870361207323,0.8125,0.8574999999999999,0.8,0.8107707509881423,0.7996041563582384,0.821870361207323,0.8227974116475858,0.8152834008097165,0.8227974116475858,0.7886904761904762,0.8333333333333334,0.8107707509881423],\"type\":\"scatter\"},{\"name\":\"Precision\",\"x\":[1,2,3,4,5,6,7,8,9,10,11,12,13,14,15,16,17,18,19,20,21,22,23,24,25],\"y\":[0.8518060366155369,0.8527956457199406,0.8537852548243443,0.8315190499752598,0.7996041563582384,0.8441365660564077,0.8334982681840672,0.8112320633349827,0.8132112815437902,0.8112320633349827,0.8102424542305788,0.8325086590796635,0.821870361207323,0.8092528451261751,0.8537852548243443,0.8005937654626423,0.8112320633349827,0.7996041563582384,0.821870361207323,0.8208807521029193,0.8082632360217714,0.8208807521029193,0.7879762493814944,0.8325086590796635,0.8112320633349827],\"type\":\"scatter\"}],                        {\"template\":{\"data\":{\"bar\":[{\"error_x\":{\"color\":\"#2a3f5f\"},\"error_y\":{\"color\":\"#2a3f5f\"},\"marker\":{\"line\":{\"color\":\"#E5ECF6\",\"width\":0.5},\"pattern\":{\"fillmode\":\"overlay\",\"size\":10,\"solidity\":0.2}},\"type\":\"bar\"}],\"barpolar\":[{\"marker\":{\"line\":{\"color\":\"#E5ECF6\",\"width\":0.5},\"pattern\":{\"fillmode\":\"overlay\",\"size\":10,\"solidity\":0.2}},\"type\":\"barpolar\"}],\"carpet\":[{\"aaxis\":{\"endlinecolor\":\"#2a3f5f\",\"gridcolor\":\"white\",\"linecolor\":\"white\",\"minorgridcolor\":\"white\",\"startlinecolor\":\"#2a3f5f\"},\"baxis\":{\"endlinecolor\":\"#2a3f5f\",\"gridcolor\":\"white\",\"linecolor\":\"white\",\"minorgridcolor\":\"white\",\"startlinecolor\":\"#2a3f5f\"},\"type\":\"carpet\"}],\"choropleth\":[{\"colorbar\":{\"outlinewidth\":0,\"ticks\":\"\"},\"type\":\"choropleth\"}],\"contour\":[{\"colorbar\":{\"outlinewidth\":0,\"ticks\":\"\"},\"colorscale\":[[0.0,\"#0d0887\"],[0.1111111111111111,\"#46039f\"],[0.2222222222222222,\"#7201a8\"],[0.3333333333333333,\"#9c179e\"],[0.4444444444444444,\"#bd3786\"],[0.5555555555555556,\"#d8576b\"],[0.6666666666666666,\"#ed7953\"],[0.7777777777777778,\"#fb9f3a\"],[0.8888888888888888,\"#fdca26\"],[1.0,\"#f0f921\"]],\"type\":\"contour\"}],\"contourcarpet\":[{\"colorbar\":{\"outlinewidth\":0,\"ticks\":\"\"},\"type\":\"contourcarpet\"}],\"heatmap\":[{\"colorbar\":{\"outlinewidth\":0,\"ticks\":\"\"},\"colorscale\":[[0.0,\"#0d0887\"],[0.1111111111111111,\"#46039f\"],[0.2222222222222222,\"#7201a8\"],[0.3333333333333333,\"#9c179e\"],[0.4444444444444444,\"#bd3786\"],[0.5555555555555556,\"#d8576b\"],[0.6666666666666666,\"#ed7953\"],[0.7777777777777778,\"#fb9f3a\"],[0.8888888888888888,\"#fdca26\"],[1.0,\"#f0f921\"]],\"type\":\"heatmap\"}],\"heatmapgl\":[{\"colorbar\":{\"outlinewidth\":0,\"ticks\":\"\"},\"colorscale\":[[0.0,\"#0d0887\"],[0.1111111111111111,\"#46039f\"],[0.2222222222222222,\"#7201a8\"],[0.3333333333333333,\"#9c179e\"],[0.4444444444444444,\"#bd3786\"],[0.5555555555555556,\"#d8576b\"],[0.6666666666666666,\"#ed7953\"],[0.7777777777777778,\"#fb9f3a\"],[0.8888888888888888,\"#fdca26\"],[1.0,\"#f0f921\"]],\"type\":\"heatmapgl\"}],\"histogram\":[{\"marker\":{\"pattern\":{\"fillmode\":\"overlay\",\"size\":10,\"solidity\":0.2}},\"type\":\"histogram\"}],\"histogram2d\":[{\"colorbar\":{\"outlinewidth\":0,\"ticks\":\"\"},\"colorscale\":[[0.0,\"#0d0887\"],[0.1111111111111111,\"#46039f\"],[0.2222222222222222,\"#7201a8\"],[0.3333333333333333,\"#9c179e\"],[0.4444444444444444,\"#bd3786\"],[0.5555555555555556,\"#d8576b\"],[0.6666666666666666,\"#ed7953\"],[0.7777777777777778,\"#fb9f3a\"],[0.8888888888888888,\"#fdca26\"],[1.0,\"#f0f921\"]],\"type\":\"histogram2d\"}],\"histogram2dcontour\":[{\"colorbar\":{\"outlinewidth\":0,\"ticks\":\"\"},\"colorscale\":[[0.0,\"#0d0887\"],[0.1111111111111111,\"#46039f\"],[0.2222222222222222,\"#7201a8\"],[0.3333333333333333,\"#9c179e\"],[0.4444444444444444,\"#bd3786\"],[0.5555555555555556,\"#d8576b\"],[0.6666666666666666,\"#ed7953\"],[0.7777777777777778,\"#fb9f3a\"],[0.8888888888888888,\"#fdca26\"],[1.0,\"#f0f921\"]],\"type\":\"histogram2dcontour\"}],\"mesh3d\":[{\"colorbar\":{\"outlinewidth\":0,\"ticks\":\"\"},\"type\":\"mesh3d\"}],\"parcoords\":[{\"line\":{\"colorbar\":{\"outlinewidth\":0,\"ticks\":\"\"}},\"type\":\"parcoords\"}],\"pie\":[{\"automargin\":true,\"type\":\"pie\"}],\"scatter\":[{\"marker\":{\"colorbar\":{\"outlinewidth\":0,\"ticks\":\"\"}},\"type\":\"scatter\"}],\"scatter3d\":[{\"line\":{\"colorbar\":{\"outlinewidth\":0,\"ticks\":\"\"}},\"marker\":{\"colorbar\":{\"outlinewidth\":0,\"ticks\":\"\"}},\"type\":\"scatter3d\"}],\"scattercarpet\":[{\"marker\":{\"colorbar\":{\"outlinewidth\":0,\"ticks\":\"\"}},\"type\":\"scattercarpet\"}],\"scattergeo\":[{\"marker\":{\"colorbar\":{\"outlinewidth\":0,\"ticks\":\"\"}},\"type\":\"scattergeo\"}],\"scattergl\":[{\"marker\":{\"colorbar\":{\"outlinewidth\":0,\"ticks\":\"\"}},\"type\":\"scattergl\"}],\"scattermapbox\":[{\"marker\":{\"colorbar\":{\"outlinewidth\":0,\"ticks\":\"\"}},\"type\":\"scattermapbox\"}],\"scatterpolar\":[{\"marker\":{\"colorbar\":{\"outlinewidth\":0,\"ticks\":\"\"}},\"type\":\"scatterpolar\"}],\"scatterpolargl\":[{\"marker\":{\"colorbar\":{\"outlinewidth\":0,\"ticks\":\"\"}},\"type\":\"scatterpolargl\"}],\"scatterternary\":[{\"marker\":{\"colorbar\":{\"outlinewidth\":0,\"ticks\":\"\"}},\"type\":\"scatterternary\"}],\"surface\":[{\"colorbar\":{\"outlinewidth\":0,\"ticks\":\"\"},\"colorscale\":[[0.0,\"#0d0887\"],[0.1111111111111111,\"#46039f\"],[0.2222222222222222,\"#7201a8\"],[0.3333333333333333,\"#9c179e\"],[0.4444444444444444,\"#bd3786\"],[0.5555555555555556,\"#d8576b\"],[0.6666666666666666,\"#ed7953\"],[0.7777777777777778,\"#fb9f3a\"],[0.8888888888888888,\"#fdca26\"],[1.0,\"#f0f921\"]],\"type\":\"surface\"}],\"table\":[{\"cells\":{\"fill\":{\"color\":\"#EBF0F8\"},\"line\":{\"color\":\"white\"}},\"header\":{\"fill\":{\"color\":\"#C8D4E3\"},\"line\":{\"color\":\"white\"}},\"type\":\"table\"}]},\"layout\":{\"annotationdefaults\":{\"arrowcolor\":\"#2a3f5f\",\"arrowhead\":0,\"arrowwidth\":1},\"autotypenumbers\":\"strict\",\"coloraxis\":{\"colorbar\":{\"outlinewidth\":0,\"ticks\":\"\"}},\"colorscale\":{\"diverging\":[[0,\"#8e0152\"],[0.1,\"#c51b7d\"],[0.2,\"#de77ae\"],[0.3,\"#f1b6da\"],[0.4,\"#fde0ef\"],[0.5,\"#f7f7f7\"],[0.6,\"#e6f5d0\"],[0.7,\"#b8e186\"],[0.8,\"#7fbc41\"],[0.9,\"#4d9221\"],[1,\"#276419\"]],\"sequential\":[[0.0,\"#0d0887\"],[0.1111111111111111,\"#46039f\"],[0.2222222222222222,\"#7201a8\"],[0.3333333333333333,\"#9c179e\"],[0.4444444444444444,\"#bd3786\"],[0.5555555555555556,\"#d8576b\"],[0.6666666666666666,\"#ed7953\"],[0.7777777777777778,\"#fb9f3a\"],[0.8888888888888888,\"#fdca26\"],[1.0,\"#f0f921\"]],\"sequentialminus\":[[0.0,\"#0d0887\"],[0.1111111111111111,\"#46039f\"],[0.2222222222222222,\"#7201a8\"],[0.3333333333333333,\"#9c179e\"],[0.4444444444444444,\"#bd3786\"],[0.5555555555555556,\"#d8576b\"],[0.6666666666666666,\"#ed7953\"],[0.7777777777777778,\"#fb9f3a\"],[0.8888888888888888,\"#fdca26\"],[1.0,\"#f0f921\"]]},\"colorway\":[\"#636efa\",\"#EF553B\",\"#00cc96\",\"#ab63fa\",\"#FFA15A\",\"#19d3f3\",\"#FF6692\",\"#B6E880\",\"#FF97FF\",\"#FECB52\"],\"font\":{\"color\":\"#2a3f5f\"},\"geo\":{\"bgcolor\":\"white\",\"lakecolor\":\"white\",\"landcolor\":\"#E5ECF6\",\"showlakes\":true,\"showland\":true,\"subunitcolor\":\"white\"},\"hoverlabel\":{\"align\":\"left\"},\"hovermode\":\"closest\",\"mapbox\":{\"style\":\"light\"},\"paper_bgcolor\":\"white\",\"plot_bgcolor\":\"#E5ECF6\",\"polar\":{\"angularaxis\":{\"gridcolor\":\"white\",\"linecolor\":\"white\",\"ticks\":\"\"},\"bgcolor\":\"#E5ECF6\",\"radialaxis\":{\"gridcolor\":\"white\",\"linecolor\":\"white\",\"ticks\":\"\"}},\"scene\":{\"xaxis\":{\"backgroundcolor\":\"#E5ECF6\",\"gridcolor\":\"white\",\"gridwidth\":2,\"linecolor\":\"white\",\"showbackground\":true,\"ticks\":\"\",\"zerolinecolor\":\"white\"},\"yaxis\":{\"backgroundcolor\":\"#E5ECF6\",\"gridcolor\":\"white\",\"gridwidth\":2,\"linecolor\":\"white\",\"showbackground\":true,\"ticks\":\"\",\"zerolinecolor\":\"white\"},\"zaxis\":{\"backgroundcolor\":\"#E5ECF6\",\"gridcolor\":\"white\",\"gridwidth\":2,\"linecolor\":\"white\",\"showbackground\":true,\"ticks\":\"\",\"zerolinecolor\":\"white\"}},\"shapedefaults\":{\"line\":{\"color\":\"#2a3f5f\"}},\"ternary\":{\"aaxis\":{\"gridcolor\":\"white\",\"linecolor\":\"white\",\"ticks\":\"\"},\"baxis\":{\"gridcolor\":\"white\",\"linecolor\":\"white\",\"ticks\":\"\"},\"bgcolor\":\"#E5ECF6\",\"caxis\":{\"gridcolor\":\"white\",\"linecolor\":\"white\",\"ticks\":\"\"}},\"title\":{\"x\":0.05},\"xaxis\":{\"automargin\":true,\"gridcolor\":\"white\",\"linecolor\":\"white\",\"ticks\":\"\",\"title\":{\"standoff\":15},\"zerolinecolor\":\"white\",\"zerolinewidth\":2},\"yaxis\":{\"automargin\":true,\"gridcolor\":\"white\",\"linecolor\":\"white\",\"ticks\":\"\",\"title\":{\"standoff\":15},\"zerolinecolor\":\"white\",\"zerolinewidth\":2}}}},                        {\"responsive\": true}                    ).then(function(){\n",
       "                            \n",
       "var gd = document.getElementById('ad1ab7d9-0fa3-4866-89c7-abb4037d86c2');\n",
       "var x = new MutationObserver(function (mutations, observer) {{\n",
       "        var display = window.getComputedStyle(gd).display;\n",
       "        if (!display || display === 'none') {{\n",
       "            console.log([gd, 'removed!']);\n",
       "            Plotly.purge(gd);\n",
       "            observer.disconnect();\n",
       "        }}\n",
       "}});\n",
       "\n",
       "// Listen for the removal of the full notebook cells\n",
       "var notebookContainer = gd.closest('#notebook-container');\n",
       "if (notebookContainer) {{\n",
       "    x.observe(notebookContainer, {childList: true});\n",
       "}}\n",
       "\n",
       "// Listen for the clearing of the current output cell\n",
       "var outputEl = gd.closest('.output');\n",
       "if (outputEl) {{\n",
       "    x.observe(outputEl, {childList: true});\n",
       "}}\n",
       "\n",
       "                        })                };                });            </script>        </div>"
      ]
     },
     "metadata": {},
     "output_type": "display_data"
    }
   ],
   "source": [
    "acc_lst = [x[0] for x in heart_mets]\n",
    "f1_lst = [x[1] for x in heart_mets]\n",
    "prec_lst = [x[2] for x in heart_mets]\n",
    "recall_lst = [x[3] for x in heart_mets]\n",
    "\n",
    "\n",
    "\n",
    "fig = go.Figure()\n",
    "fig.add_trace(go.Scatter(x=depths, y=acc_lst, name=\"accuracy\"))\n",
    "fig.add_trace(go.Scatter(x=depths, y=f1_lst, name=\"F1\"))\n",
    "fig.add_trace(go.Scatter(x=depths, y=recall_lst, name=\"Recall\"))\n",
    "fig.add_trace(go.Scatter(x=depths, y=prec_lst, name=\"Precision\"))\n",
    "fig.write_image(\"images/fig_heart_depth.pdf\")\n",
    "fig.show()"
   ]
  },
  {
   "cell_type": "code",
   "execution_count": null,
   "id": "bd9b4fd5",
   "metadata": {},
   "outputs": [],
   "source": []
  }
 ],
 "metadata": {
  "kernelspec": {
   "display_name": "Python 3 (ipykernel)",
   "language": "python",
   "name": "python3"
  },
  "language_info": {
   "codemirror_mode": {
    "name": "ipython",
    "version": 3
   },
   "file_extension": ".py",
   "mimetype": "text/x-python",
   "name": "python",
   "nbconvert_exporter": "python",
   "pygments_lexer": "ipython3",
   "version": "3.9.13"
  }
 },
 "nbformat": 4,
 "nbformat_minor": 5
}
