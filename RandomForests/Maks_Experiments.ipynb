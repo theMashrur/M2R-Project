{
 "cells": [
  {
   "cell_type": "markdown",
   "metadata": {},
   "source": [
    "# Experiments"
   ]
  },
  {
   "cell_type": "markdown",
   "metadata": {},
   "source": [
    "Metrics: Accuracy, Precision and Recall\n",
    "\n",
    "Experiments: \n",
    "- Performance vs node purity method (Gini vs entropy)\n",
    "- Performance vs size of individual trees"
   ]
  },
  {
   "cell_type": "code",
   "execution_count": 3,
   "metadata": {},
   "outputs": [],
   "source": [
    "from sklearn.ensemble import RandomForestClassifier\n",
    "import pandas as pd\n",
    "from sklearn.metrics import accuracy_score, f1_score, recall_score, precision_score\n",
    "from sklearn.model_selection import train_test_split\n",
    "import plotly.graph_objects as go\n",
    "import numpy as np\n",
    "import plotly.express as px\n",
    "from sklearn.datasets import load_iris"
   ]
  },
  {
   "cell_type": "markdown",
   "metadata": {},
   "source": [
    "## Load data"
   ]
  },
  {
   "cell_type": "code",
   "execution_count": 7,
   "metadata": {},
   "outputs": [],
   "source": [
    "iris = load_iris()\n",
    "stars = pd.read_csv(\"../Datasets/star_classification.csv\")\n",
    "heart = pd.read_csv(\"../Datasets/heart_cleveland_upload.csv\")"
   ]
  },
  {
   "cell_type": "markdown",
   "metadata": {},
   "source": [
    "### iris"
   ]
  },
  {
   "cell_type": "code",
   "execution_count": 8,
   "metadata": {
    "scrolled": true
   },
   "outputs": [
    {
     "data": {
      "text/plain": [
       "['sepal length (cm)',\n",
       " 'sepal width (cm)',\n",
       " 'petal length (cm)',\n",
       " 'petal width (cm)']"
      ]
     },
     "execution_count": 8,
     "metadata": {},
     "output_type": "execute_result"
    }
   ],
   "source": [
    "iris.feature_names"
   ]
  },
  {
   "cell_type": "code",
   "execution_count": 9,
   "metadata": {},
   "outputs": [
    {
     "data": {
      "text/plain": [
       "array(['setosa', 'versicolor', 'virginica'], dtype='<U10')"
      ]
     },
     "execution_count": 9,
     "metadata": {},
     "output_type": "execute_result"
    }
   ],
   "source": [
    "iris.target_names"
   ]
  },
  {
   "cell_type": "code",
   "execution_count": 11,
   "metadata": {},
   "outputs": [
    {
     "data": {
      "text/plain": [
       "150"
      ]
     },
     "execution_count": 11,
     "metadata": {},
     "output_type": "execute_result"
    }
   ],
   "source": [
    "len(iris.data)"
   ]
  },
  {
   "cell_type": "markdown",
   "metadata": {},
   "source": [
    "### stars"
   ]
  },
  {
   "cell_type": "code",
   "execution_count": 40,
   "metadata": {
    "scrolled": true
   },
   "outputs": [
    {
     "data": {
      "text/plain": [
       "['obj_ID',\n",
       " 'alpha',\n",
       " 'delta',\n",
       " 'u',\n",
       " 'g',\n",
       " 'r',\n",
       " 'i',\n",
       " 'z',\n",
       " 'run_ID',\n",
       " 'rerun_ID',\n",
       " 'cam_col',\n",
       " 'field_ID',\n",
       " 'spec_obj_ID',\n",
       " 'redshift',\n",
       " 'plate',\n",
       " 'MJD',\n",
       " 'fiber_ID']"
      ]
     },
     "execution_count": 40,
     "metadata": {},
     "output_type": "execute_result"
    }
   ],
   "source": [
    "s_t = list(stars.columns)\n",
    "s_t.remove('class')\n",
    "s_t"
   ]
  },
  {
   "cell_type": "code",
   "execution_count": 33,
   "metadata": {},
   "outputs": [
    {
     "data": {
      "text/plain": [
       "array(['GALAXY', 'QSO', 'STAR'], dtype=object)"
      ]
     },
     "execution_count": 33,
     "metadata": {},
     "output_type": "execute_result"
    }
   ],
   "source": [
    "stars['class'].unique()"
   ]
  },
  {
   "cell_type": "code",
   "execution_count": 34,
   "metadata": {},
   "outputs": [
    {
     "data": {
      "text/plain": [
       "100000"
      ]
     },
     "execution_count": 34,
     "metadata": {},
     "output_type": "execute_result"
    }
   ],
   "source": [
    "len(stars)"
   ]
  },
  {
   "cell_type": "markdown",
   "metadata": {},
   "source": [
    "### heart"
   ]
  },
  {
   "cell_type": "code",
   "execution_count": 35,
   "metadata": {
    "scrolled": true
   },
   "outputs": [
    {
     "data": {
      "text/plain": [
       "['age',\n",
       " 'sex',\n",
       " 'cp',\n",
       " 'trestbps',\n",
       " 'chol',\n",
       " 'fbs',\n",
       " 'restecg',\n",
       " 'thalach',\n",
       " 'exang',\n",
       " 'oldpeak',\n",
       " 'slope',\n",
       " 'ca',\n",
       " 'thal',\n",
       " 'condition']"
      ]
     },
     "execution_count": 35,
     "metadata": {},
     "output_type": "execute_result"
    }
   ],
   "source": [
    "list(heart.columns)"
   ]
  },
  {
   "cell_type": "code",
   "execution_count": 42,
   "metadata": {},
   "outputs": [
    {
     "data": {
      "text/plain": [
       "array([0, 1])"
      ]
     },
     "execution_count": 42,
     "metadata": {},
     "output_type": "execute_result"
    }
   ],
   "source": [
    "heart['condition'].unique()"
   ]
  },
  {
   "cell_type": "code",
   "execution_count": 44,
   "metadata": {},
   "outputs": [
    {
     "data": {
      "text/plain": [
       "297"
      ]
     },
     "execution_count": 44,
     "metadata": {},
     "output_type": "execute_result"
    }
   ],
   "source": [
    "len(heart)"
   ]
  },
  {
   "cell_type": "markdown",
   "metadata": {},
   "source": [
    "## Performance vs node purity method"
   ]
  },
  {
   "cell_type": "markdown",
   "metadata": {},
   "source": [
    "### stars"
   ]
  },
  {
   "cell_type": "code",
   "execution_count": 51,
   "metadata": {},
   "outputs": [
    {
     "name": "stdout",
     "output_type": "stream",
     "text": [
      "Metrics for gini:\n",
      "Accuracy 0.9767\n",
      "F1 Score 0.972706332216565\n",
      "Recall 0.9685854998945173\n",
      "Precision 0.9772420177126985\n",
      "\n",
      "Metrics for entropy:\n",
      "Accuracy 0.9769333333333333\n",
      "F1 Score 0.9729587973943387\n",
      "Recall 0.9686689020506106\n",
      "Precision 0.9776919083284555\n",
      "\n"
     ]
    }
   ],
   "source": [
    "stars_y = stars[\"class\"]\n",
    "stars_X = stars.drop(\"class\", axis=1)\n",
    "\n",
    "stars_x_train, stars_x_test, stars_y_train, stars_y_test = train_test_split(stars_X, stars_y, test_size=0.3)\n",
    "\n",
    "for crit in ['gini', 'entropy']:\n",
    "    print(f\"Metrics for {crit}:\")\n",
    "    classifier = RandomForestClassifier(criterion=crit)\n",
    "\n",
    "    classifier.fit(stars_x_train, stars_y_train)\n",
    "    predictions = classifier.predict(stars_x_test)\n",
    "\n",
    "    print(f\"Accuracy {accuracy_score(stars_y_test, predictions)}\")\n",
    "    print(f\"F1 Score {f1_score(stars_y_test, predictions, average='macro')}\")\n",
    "    print(f\"Recall {recall_score(stars_y_test, predictions, average='macro')}\")\n",
    "    print(f\"Precision {precision_score(stars_y_test, predictions, average='macro')}\\n\")"
   ]
  },
  {
   "cell_type": "markdown",
   "metadata": {},
   "source": [
    "### heart"
   ]
  },
  {
   "cell_type": "code",
   "execution_count": 54,
   "metadata": {
    "scrolled": true
   },
   "outputs": [
    {
     "name": "stdout",
     "output_type": "stream",
     "text": [
      "Metrics for gini:\n",
      "Accuracy 0.8333333333333334\n",
      "F1 Score 0.8255588577335573\n",
      "Recall 0.8240740740740741\n",
      "Precision 0.8272727272727273\n",
      "\n",
      "Metrics for entropy:\n",
      "Accuracy 0.8\n",
      "F1 Score 0.7916666666666667\n",
      "Recall 0.7916666666666667\n",
      "Precision 0.7916666666666667\n",
      "\n"
     ]
    }
   ],
   "source": [
    "heart_y = heart[\"condition\"]\n",
    "heart_X = heart.drop(\"condition\", axis=1)\n",
    "\n",
    "heart_x_train, heart_x_test, heart_y_train, heart_y_test = train_test_split(heart_X, heart_y, test_size=0.3)\n",
    "for crit in ['gini', 'entropy']:\n",
    "    print(f\"Metrics for {crit}:\")\n",
    "    classifier = RandomForestClassifier(criterion=crit)\n",
    "\n",
    "    classifier.fit(heart_x_train, heart_y_train)\n",
    "    predictions = classifier.predict(heart_x_test)\n",
    "\n",
    "    print(f\"Accuracy {accuracy_score(heart_y_test, predictions)}\")\n",
    "    print(f\"F1 Score {f1_score(heart_y_test, predictions, average='macro')}\")\n",
    "    print(f\"Recall {recall_score(heart_y_test, predictions, average='macro')}\")\n",
    "    print(f\"Precision {precision_score(heart_y_test, predictions, average='macro')}\\n\")"
   ]
  },
  {
   "cell_type": "markdown",
   "metadata": {},
   "source": [
    "### iris\n"
   ]
  },
  {
   "cell_type": "code",
   "execution_count": 55,
   "metadata": {},
   "outputs": [
    {
     "name": "stdout",
     "output_type": "stream",
     "text": [
      "Metrics for gini:\n",
      "Accuracy 0.9333333333333333\n",
      "F1 Score 0.9343915343915343\n",
      "Recall 0.9327731092436974\n",
      "Precision 0.9373219373219372\n",
      "\n",
      "Metrics for entropy:\n",
      "Accuracy 0.9333333333333333\n",
      "F1 Score 0.9343915343915343\n",
      "Recall 0.9327731092436974\n",
      "Precision 0.9373219373219372\n",
      "\n"
     ]
    }
   ],
   "source": [
    "iris_X, iris_y  = iris.data, iris.target\n",
    "\n",
    "iris_x_train, iris_x_test, iris_y_train, iris_y_test = train_test_split(iris_X, iris_y, test_size=0.3)\n",
    "\n",
    "for crit in ['gini', 'entropy']:\n",
    "    print(f\"Metrics for {crit}:\")\n",
    "    classifier = RandomForestClassifier(criterion=crit)\n",
    "\n",
    "    classifier.fit(iris_x_train, iris_y_train)\n",
    "    predictions = classifier.predict(iris_x_test)\n",
    "\n",
    "    print(f\"Accuracy {accuracy_score(iris_y_test, predictions)}\")\n",
    "    print(f\"F1 Score {f1_score(iris_y_test, predictions, average='macro')}\")\n",
    "    print(f\"Recall {recall_score(iris_y_test, predictions, average='macro')}\")\n",
    "    print(f\"Precision {precision_score(iris_y_test, predictions, average='macro')}\\n\")"
   ]
  },
  {
   "cell_type": "markdown",
   "metadata": {},
   "source": [
    "## Performance vs size of individual trees"
   ]
  },
  {
   "cell_type": "code",
   "execution_count": null,
   "metadata": {},
   "outputs": [],
   "source": []
  }
 ],
 "metadata": {
  "kernelspec": {
   "display_name": "Python 3",
   "language": "python",
   "name": "python3"
  },
  "language_info": {
   "codemirror_mode": {
    "name": "ipython",
    "version": 3
   },
   "file_extension": ".py",
   "mimetype": "text/x-python",
   "name": "python",
   "nbconvert_exporter": "python",
   "pygments_lexer": "ipython3",
   "version": "3.8.3"
  }
 },
 "nbformat": 4,
 "nbformat_minor": 5
}
