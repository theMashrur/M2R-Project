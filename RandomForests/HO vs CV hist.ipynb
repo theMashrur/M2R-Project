{
 "cells": [
  {
   "cell_type": "code",
   "execution_count": 1,
   "id": "f9870896",
   "metadata": {},
   "outputs": [],
   "source": [
    "import numpy as np\n",
    "import pandas as pd\n",
    "import matplotlib.pyplot as plt\n",
    "from sklearn import datasets\n",
    "from sklearn.model_selection import train_test_split, KFold\n",
    "from sklearn.ensemble import RandomForestClassifier\n",
    "from sklearn.metrics import accuracy_score, confusion_matrix"
   ]
  },
  {
   "cell_type": "code",
   "execution_count": 2,
   "id": "6ec6e7fa",
   "metadata": {},
   "outputs": [],
   "source": [
    "iris = datasets.load_iris()"
   ]
  },
  {
   "cell_type": "code",
   "execution_count": 21,
   "id": "bca70b45",
   "metadata": {},
   "outputs": [],
   "source": [
    "# Loading the predictor value (y) and remainder of the training dataset (X) as Pandas DataFrames\n",
    "X = pd.DataFrame(data = iris['data'], columns = iris['feature_names'])\n",
    "y = pd.DataFrame(data = iris['target'], columns = ['target'])\n",
    "y = np.ravel(y)"
   ]
  },
  {
   "cell_type": "code",
   "execution_count": 23,
   "id": "df79f125",
   "metadata": {
    "scrolled": true
   },
   "outputs": [
    {
     "data": {
      "image/png": "[encoded data removed]",
      "text/plain": [
       "<Figure size 432x288 with 1 Axes>"
      ]
     },
     "metadata": {
      "needs_background": "light"
     },
     "output_type": "display_data"
    }
   ],
   "source": [
    "acc_array = np.zeros(1000)\n",
    "for i in range(1000):\n",
    "    # Performing a train_test_split on the dataset\n",
    "    X_train, X_val, y_train, y_val = train_test_split(X, y)\n",
    "    # Instantiating a RandomForestClassifier model\n",
    "    rfc_model = RandomForestClassifier()\n",
    "    # Fitting the X_train and y_train datasets to the RandomForestClassifier model\n",
    "    rfc_model.fit(X_train, y_train)\n",
    "    # Getting inferential predictions for the validation dataset\n",
    "    val_preds = rfc_model.predict(X_val)\n",
    "    # Generating validation metrics by comparing the inferential predictions (val_preds) to the actuals (y_val)\n",
    "    val_accuracy_ho = accuracy_score(y_val, val_preds)\n",
    "    acc_array[i] = val_accuracy_ho\n",
    "    \n",
    "plt.hist(acc_array,density=True)\n",
    "plt.xlabel('Accuracy')\n",
    "plt.ylabel('Density')\n",
    "plt.title('Hold-Out Accuracy Distribution')\n",
    "plt.show()"
   ]
  },
  {
   "cell_type": "code",
   "execution_count": 28,
   "id": "9e378857",
   "metadata": {},
   "outputs": [],
   "source": [
    "# Instantiating the K-Fold cross validation object with 5 folds\n",
    "k_folds = KFold(n_splits = 10, shuffle = True, random_state = 42)"
   ]
  },
  {
   "cell_type": "code",
   "execution_count": 29,
   "id": "8a235c71",
   "metadata": {},
   "outputs": [],
   "source": [
    "# Loading the predictor value (y) and remainder of the training dataset (X) as Pandas DataFrames\n",
    "X = pd.DataFrame(data = iris['data'], columns = iris['feature_names'])\n",
    "y = pd.DataFrame(data = iris['target'], columns = ['target'])"
   ]
  },
  {
   "cell_type": "code",
   "execution_count": 30,
   "id": "010812cf",
   "metadata": {},
   "outputs": [],
   "source": [
    "X_train, X_val = X.iloc[train_index, :], X.iloc[val_index, :]\n",
    "y_train, y_val = y.iloc[train_index], y.iloc[val_index]\n",
    "y_train, y_val = np.ravel(y_train),np.ravel(y_val)"
   ]
  },
  {
   "cell_type": "code",
   "execution_count": 35,
   "id": "dd552d14",
   "metadata": {},
   "outputs": [
    {
     "data": {
      "image/png": "[encoded data removed]",
      "text/plain": [
       "<Figure size 432x288 with 1 Axes>"
      ]
     },
     "metadata": {
      "needs_background": "light"
     },
     "output_type": "display_data"
    }
   ],
   "source": [
    "# Iterating through each of the folds in K-Fold\n",
    "ave_score_array = np.zeros(1000)\n",
    "for i in range(1000):\n",
    "    ave_score = 0\n",
    "    for train_index, val_index in k_folds.split(X):\n",
    "    \n",
    "        # Splitting the training set from the validation set for this specific fold\n",
    "        X_train, X_val = X.iloc[train_index, :], X.iloc[val_index, :]\n",
    "        y_train, y_val = y.iloc[train_index], y.iloc[val_index]\n",
    "        y_train, y_val = np.ravel(y_train),np.ravel(y_val)\n",
    "\n",
    "        # Instantiating a RandomForestClassifier model\n",
    "        rfc_model = RandomForestClassifier()\n",
    "\n",
    "        # Fitting the X_train and y_train datasets to the RandomForestClassifier model\n",
    "        rfc_model.fit(X_train, y_train)\n",
    "\n",
    "        # Getting inferential predictions for the validation dataset\n",
    "        val_preds = rfc_model.predict(X_val)\n",
    "\n",
    "        # Generating validation metrics by comparing the inferential predictions (val_preds) to the actuals (y_val)\n",
    "        val_accuracy = accuracy_score(y_val, val_preds)\n",
    "\n",
    "        # Printing out the validation metrics\n",
    "        ave_score += val_accuracy\n",
    "\n",
    "    ave_score_array[i] = ave_score / 10\n",
    "plt.hist(ave_score_array,density = True,range = (0.9,1))\n",
    "plt.xlabel('Accuracy')\n",
    "plt.ylabel('Density')\n",
    "plt.title('10-Folds Cross-Validation Accuracy Distribution')\n",
    "plt.show()"
   ]
  },
  {
   "cell_type": "code",
   "execution_count": null,
   "id": "70a187fd",
   "metadata": {},
   "outputs": [],
   "source": []
  }
 ],
 "metadata": {
  "kernelspec": {
   "display_name": "Python 3 (ipykernel)",
   "language": "python",
   "name": "python3"
  },
  "language_info": {
   "codemirror_mode": {
    "name": "ipython",
    "version": 3
   },
   "file_extension": ".py",
   "mimetype": "text/x-python",
   "name": "python",
   "nbconvert_exporter": "python",
   "pygments_lexer": "ipython3",
   "version": "3.9.12"
  }
 },
 "nbformat": 4,
 "nbformat_minor": 5
}
