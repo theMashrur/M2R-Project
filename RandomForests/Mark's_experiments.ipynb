{
 "cells": [
  {
   "cell_type": "markdown",
   "metadata": {},
   "source": [
    "# Mark's Experiments\n",
    "\n",
    "Metrics: Accuracy, Precision and Recall\n",
    "\n",
    "Experiments: \n",
    "- Majority vs weighted votes"
   ]
  },
  {
   "cell_type": "code",
   "execution_count": 5,
   "metadata": {},
   "outputs": [],
   "source": [
    "#import sys\n",
    "#!{sys.executable} -m pip install plotly\n",
    "\n",
    "from sklearn.ensemble import RandomForestClassifier\n",
    "import pandas as pd\n",
    "from sklearn.metrics import accuracy_score, f1_score, recall_score, precision_score\n",
    "from sklearn.model_selection import train_test_split\n",
    "import plotly.graph_objects as go\n",
    "import numpy as np\n",
    "import plotly.express as px\n",
    "from sklearn.datasets import load_iris\n"
   ]
  },
  {
   "cell_type": "code",
   "execution_count": 6,
   "metadata": {},
   "outputs": [],
   "source": [
    "iris = load_iris()\n",
    "stars = pd.read_csv(\"../Datasets/star_classification.csv\")\n",
    "heart = pd.read_csv(\"../Datasets/heart_cleveland_upload.csv\")"
   ]
  },
  {
   "cell_type": "markdown",
   "metadata": {},
   "source": [
    "# Majority vs weighted votes"
   ]
  },
  {
   "cell_type": "markdown",
   "metadata": {},
   "source": [
    "###stars"
   ]
  },
  {
   "cell_type": "code",
   "execution_count": 11,
   "metadata": {},
   "outputs": [
    {
     "name": "stdout",
     "output_type": "stream",
     "text": [
      "Metrics for None:\n",
      "Accuracy 0.9767666666666667\n",
      "F1 Score 0.9733886020362889\n",
      "Recall 0.9707754638386538\n",
      "Precision 0.9762352509722909\n",
      "\n",
      "Metrics for balanced:\n",
      "Accuracy 0.9763\n",
      "F1 Score 0.9729213339019079\n",
      "Recall 0.9706854416869412\n",
      "Precision 0.9753906529907733\n",
      "\n"
     ]
    }
   ],
   "source": [
    "stars_y = stars[\"class\"]\n",
    "stars_X = stars.drop(\"class\", axis=1)\n",
    "\n",
    "stars_x_train, stars_x_test, stars_y_train, stars_y_test = train_test_split(stars_X, stars_y, test_size=0.3)\n",
    "\n",
    "for crit in [None, 'balanced']:\n",
    "    print(f\"Metrics for class weight is = {crit}:\")\n",
    "    classifier = RandomForestClassifier(class_weight=crit)\n",
    "\n",
    "    classifier.fit(stars_x_train, stars_y_train)\n",
    "    predictions = classifier.predict(stars_x_test)\n",
    "\n",
    "    print(f\"Accuracy {accuracy_score(stars_y_test, predictions)}\")\n",
    "    print(f\"F1 Score {f1_score(stars_y_test, predictions, average='macro')}\")\n",
    "    print(f\"Recall {recall_score(stars_y_test, predictions, average='macro')}\")\n",
    "    print(f\"Precision {precision_score(stars_y_test, predictions, average='macro')}\\n\")\n",
    "\n",
    "\n",
    "\n"
   ]
  },
  {
   "cell_type": "markdown",
   "metadata": {},
   "source": [
    "### heart"
   ]
  },
  {
   "cell_type": "code",
   "execution_count": 15,
   "metadata": {},
   "outputs": [
    {
     "name": "stdout",
     "output_type": "stream",
     "text": [
      "Metrics for class weight = None:\n",
      "Accuracy 0.7666666666666667\n",
      "F1 Score 0.7616946160635482\n",
      "Recall 0.76\n",
      "Precision 0.7651708312085671\n",
      "\n",
      "Metrics for class weight = balanced:\n",
      "Accuracy 0.7666666666666667\n",
      "F1 Score 0.7557824008269802\n",
      "Recall 0.7525\n",
      "Precision 0.7761071623838163\n",
      "\n"
     ]
    }
   ],
   "source": [
    "heart_y = heart[\"condition\"]\n",
    "heart_X = heart.drop(\"condition\", axis=1)\n",
    "\n",
    "heart_x_train, heart_x_test, heart_y_train, heart_y_test = train_test_split(heart_X, heart_y, test_size=0.3)\n",
    "for crit in [None, 'balanced']:\n",
    "    print(f\"Metrics for class weight = {crit}:\")\n",
    "    classifier = RandomForestClassifier(class_weight=crit)\n",
    "\n",
    "    classifier.fit(heart_x_train, heart_y_train)\n",
    "    predictions = classifier.predict(heart_x_test)\n",
    "\n",
    "    print(f\"Accuracy {accuracy_score(heart_y_test, predictions)}\")\n",
    "    print(f\"F1 Score {f1_score(heart_y_test, predictions, average='macro')}\")\n",
    "    print(f\"Recall {recall_score(heart_y_test, predictions, average='macro')}\")\n",
    "    print(f\"Precision {precision_score(heart_y_test, predictions, average='macro')}\\n\")"
   ]
  },
  {
   "cell_type": "markdown",
   "metadata": {},
   "source": [
    "### iris"
   ]
  },
  {
   "cell_type": "code",
   "execution_count": 17,
   "metadata": {},
   "outputs": [
    {
     "name": "stdout",
     "output_type": "stream",
     "text": [
      "Metrics for None:\n",
      "Accuracy 0.9333333333333333\n",
      "F1 Score 0.9310344827586207\n",
      "Recall 0.9317460317460317\n",
      "Precision 0.9317460317460317\n",
      "\n",
      "Metrics for balanced:\n",
      "Accuracy 0.9333333333333333\n",
      "F1 Score 0.9310344827586207\n",
      "Recall 0.9317460317460317\n",
      "Precision 0.9317460317460317\n",
      "\n"
     ]
    }
   ],
   "source": [
    "iris_X, iris_y  = iris.data, iris.target\n",
    "\n",
    "iris_x_train, iris_x_test, iris_y_train, iris_y_test = train_test_split(iris_X, iris_y, test_size=0.3)\n",
    "\n",
    "for crit in [None, 'balanced']:\n",
    "    print(f\"Metrics for {crit}:\")\n",
    "    classifier = RandomForestClassifier(class_weight=crit)\n",
    "\n",
    "    classifier.fit(iris_x_train, iris_y_train)\n",
    "    predictions = classifier.predict(iris_x_test)\n",
    "\n",
    "    print(f\"Accuracy {accuracy_score(iris_y_test, predictions)}\")\n",
    "    print(f\"F1 Score {f1_score(iris_y_test, predictions, average='macro')}\")\n",
    "    print(f\"Recall {recall_score(iris_y_test, predictions, average='macro')}\")\n",
    "    print(f\"Precision {precision_score(iris_y_test, predictions, average='macro')}\\n\")"
   ]
  }
 ],
 "metadata": {
  "kernelspec": {
   "display_name": "Python 3",
   "language": "python",
   "name": "python3"
  },
  "language_info": {
   "codemirror_mode": {
    "name": "ipython",
    "version": 3
   },
   "file_extension": ".py",
   "mimetype": "text/x-python",
   "name": "python",
   "nbconvert_exporter": "python",
   "pygments_lexer": "ipython3",
   "version": "3.8.3"
  }
 },
 "nbformat": 4,
 "nbformat_minor": 4
}
